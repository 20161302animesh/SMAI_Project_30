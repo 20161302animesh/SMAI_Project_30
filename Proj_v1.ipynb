{
  "nbformat": 4,
  "nbformat_minor": 0,
  "metadata": {
    "colab": {
      "name": "Proj-v1.ipynb",
      "version": "0.3.2",
      "provenance": [],
      "collapsed_sections": []
    },
    "kernelspec": {
      "name": "python3",
      "display_name": "Python 3"
    },
    "accelerator": "TPU"
  },
  "cells": [
    {
      "metadata": {
        "id": "Zitq1SavaNeb",
        "colab_type": "code",
        "outputId": "7dfc59ef-f9b9-448f-df20-0d6239adc308",
        "colab": {
          "base_uri": "https://localhost:8080/",
          "height": 51
        }
      },
      "cell_type": "code",
      "source": [
        "# Code to read csv file into Colaboratory:\n",
        "!pip install -U -q PyDrive\n",
        "import numpy as np\n",
        "import pandas as pd\n",
        "from pydrive.auth import GoogleAuth\n",
        "from pydrive.drive import GoogleDrive\n",
        "from google.colab import auth\n",
        "from oauth2client.client import GoogleCredentials\n",
        "# Authenticate and create the PyDrive client.\n",
        "auth.authenticate_user()\n",
        "gauth = GoogleAuth()\n",
        "gauth.credentials = GoogleCredentials.get_application_default()\n",
        "drive = GoogleDrive(gauth)\n",
        "\n",
        "link = 'https://drive.google.com/open?id=1Ka7fNnL71IH-BV010DhTLU9Drlmqt3o9'\n",
        "fluff, id = link.split('=')\n",
        "print (id) # Verify that you have everything after '='\n",
        "downloaded = drive.CreateFile({'id':id}) \n",
        "downloaded.GetContentFile('rumour.npy')  \n",
        "file_dict = np.load('rumour.npy',allow_pickle=True)\n",
        "\n",
        "link1 = 'https://drive.google.com/open?id=1KaglTR_T2tQcxsHl5jSuXtmlcWJTk4ZY'\n",
        "fluff1, id1 = link1.split('=')\n",
        "print (id1) # Verify that you have everything after '='\n",
        "downloaded1 = drive.CreateFile({'id':id1}) \n",
        "downloaded1.GetContentFile('fakenews.npy')  \n",
        "file_dict1 = np.load('fakenews.npy',allow_pickle=True)"
      ],
      "execution_count": 0,
      "outputs": [
        {
          "output_type": "stream",
          "text": [
            "1Ka7fNnL71IH-BV010DhTLU9Drlmqt3o9\n",
            "1KaglTR_T2tQcxsHl5jSuXtmlcWJTk4ZY\n"
          ],
          "name": "stdout"
        }
      ]
    },
    {
      "metadata": {
        "id": "MQnT980ZfRZc",
        "colab_type": "code",
        "outputId": "343206fe-2475-45a6-ecc2-0f44b540bb32",
        "colab": {
          "base_uri": "https://localhost:8080/",
          "height": 51
        }
      },
      "cell_type": "code",
      "source": [
        "out1Val = file_dict[:,1]\n",
        "in1Val = file_dict[:,0]\n",
        "print(in1Val.shape)\n",
        "out2Val = file_dict1[:,1]\n",
        "in2Val = file_dict1[:,0]\n",
        "print(in2Val.shape)"
      ],
      "execution_count": 0,
      "outputs": [
        {
          "output_type": "stream",
          "text": [
            "(5331,)\n",
            "(5000,)\n"
          ],
          "name": "stdout"
        }
      ]
    },
    {
      "metadata": {
        "id": "Edh2VS_QA2Si",
        "colab_type": "code",
        "colab": {}
      },
      "cell_type": "code",
      "source": [
        "def pad_along_axis(array: np.ndarray, target_length, axis=0):\n",
        "\n",
        "    pad_size = target_length - array.shape[axis]\n",
        "    axis_nb = len(array.shape)\n",
        "\n",
        "    if pad_size < 0:\n",
        "        return array[:target_length]\n",
        "    npad = [(0, 0) for x in range(axis_nb)]\n",
        "    npad[axis] = (0, pad_size)\n",
        "\n",
        "    b = np.pad(array, pad_width=npad, mode='constant', constant_values=0)\n",
        "\n",
        "    return b\n",
        "  \n",
        "\n",
        "shapes = [ar.shape[0] for ar in in1Val]\n",
        "maxLeng1 =  np.max(shapes)\n",
        "shapes = [ar.shape[0] for ar in in2Val]\n",
        "maxLeng2 =  np.max(shapes)\n",
        "maxLeng  = maxLeng1\n",
        "if(maxLeng < maxLeng2):\n",
        "  maxLeng = maxLeng2"
      ],
      "execution_count": 0,
      "outputs": []
    },
    {
      "metadata": {
        "id": "0ZHaU6mJlmFU",
        "colab_type": "code",
        "colab": {}
      },
      "cell_type": "code",
      "source": [
        "timeSteps = 200"
      ],
      "execution_count": 0,
      "outputs": []
    },
    {
      "metadata": {
        "id": "k9AXigatlk7T",
        "colab_type": "code",
        "outputId": "e25dcec6-bdbf-4898-cdf0-b0b186b6863d",
        "colab": {
          "base_uri": "https://localhost:8080/",
          "height": 34
        }
      },
      "cell_type": "code",
      "source": [
        "in2ValX = in1Val\n",
        "temp = [pad_along_axis(in2ValAR, timeSteps, axis=0) for in2ValAR in in2ValX]\n",
        "# in1Vali = [np.pad(in1ValAR, (0,maxLeng-in1ValAR.shape[0]), 'constant', constant_values=(0, 0)) for in1ValAR in in1ValX]\n",
        "# shapes1 = [[ar.shape] for ar in in1Vali]\n",
        "#print(shapes1)\n",
        "in1Vali = np.array(temp)\n",
        "print(in1Vali.shape)\n"
      ],
      "execution_count": 0,
      "outputs": [
        {
          "output_type": "stream",
          "text": [
            "(5331, 200, 300)\n"
          ],
          "name": "stdout"
        }
      ]
    },
    {
      "metadata": {
        "id": "po9Fx9q08Lee",
        "colab_type": "code",
        "outputId": "caa75feb-9060-458c-de55-280eff2776d5",
        "colab": {
          "base_uri": "https://localhost:8080/",
          "height": 34
        }
      },
      "cell_type": "code",
      "source": [
        "in1ValX = None\n",
        "in1ValX = in2Val\n",
        "temp = [pad_along_axis(in1ValAR, timeSteps, axis=0) for in1ValAR in in1ValX]\n",
        "# in1Vali = [np.pad(in1ValAR, (0,maxLeng-in1ValAR.shape[0]), 'constant', constant_values=(0, 0)) for in1ValAR in in1ValX]\n",
        "#print(shapes1)\n",
        "in2Vali = np.array(temp)\n",
        "print(in2Vali.shape)"
      ],
      "execution_count": 0,
      "outputs": [
        {
          "output_type": "stream",
          "text": [
            "(5000, 200, 300)\n"
          ],
          "name": "stdout"
        }
      ]
    },
    {
      "metadata": {
        "id": "O-VXdSEwjKS7",
        "colab_type": "code",
        "colab": {}
      },
      "cell_type": "code",
      "source": [
        "# print(np.unique(out1Val,return_counts=True))\n",
        "out1Vali = [1 if val=='rumours' else 0 for val in out1Val]\n",
        "out1Vali = np.array(out1Vali)\n",
        "# print(np.unique(out1Vali,return_counts=True))"
      ],
      "execution_count": 0,
      "outputs": []
    },
    {
      "metadata": {
        "id": "Uod8bzmZlF-H",
        "colab_type": "code",
        "colab": {}
      },
      "cell_type": "code",
      "source": [
        "# print(np.unique(out2Val,return_counts=True))\n",
        "def findInt(valu):\n",
        "  if valu == 'agree':\n",
        "    return np.array([1,0,0,0])\n",
        "  elif valu == 'disagree':\n",
        "    return np.array([0,1,0,0])\n",
        "  elif valu == 'discuss':\n",
        "    return np.array([0,0,1,0])\n",
        "  else:\n",
        "    return np.array([0,0,0,1])\n",
        "out2Vali = [findInt(val) for val in out2Val]\n",
        "out2Vali = np.array(out2Vali)\n",
        "#print(out2Vali.shape,out2Val.shape,out2Val[0:5],out2Vali[0:5,:])"
      ],
      "execution_count": 0,
      "outputs": []
    },
    {
      "metadata": {
        "id": "O_QOVAM-pUQo",
        "colab_type": "code",
        "outputId": "0f28afc6-8e25-4b19-fc48-b61b595d2c5e",
        "colab": {
          "base_uri": "https://localhost:8080/",
          "height": 34
        }
      },
      "cell_type": "code",
      "source": [
        "# from sklearn.cross_validation import train_test_split\n",
        "from keras.models import Sequential\n",
        "from keras.layers import Dense\n",
        "from keras.layers import LSTM, GRU\n",
        "from keras.optimizers import RMSprop\n",
        "import matplotlib.pyplot as plt\n",
        "# Data = [[[(i+j)/100] for i in np.arange(5)] for j in np.arange(100)]\n",
        "# target = [1 if (i%5)==0 else 0 for i in np.arange(100)]\n",
        "# x_train = np.array(Data,dtype=float)\n",
        "# y_train = np.array(target,dtype=float)\n",
        "# # print(x_train,y_train)\n",
        "# Data = [[[(i+j)/200] for i in np.arange(5)] for j in np.arange(100)]\n",
        "# target = [1 if (i%5)==0 else 0 for i in np.arange(100)]\n",
        "# x_test = np.array(Data,dtype=float)\n",
        "# y_test = np.array(target,dtype=float)\n",
        "# # print(x_test,y_test)\n",
        "# # x_train,x_test,y_train,y_test = train_test_split(data,target,size=0.2,random_state=4)\n",
        "# model=Sequential()\n",
        "# model.add(LSTM((1),batch_input_shape=(None,5,1),return_sequences=False))\n",
        "# # model.add(Dense((1),activation='softmax'))\n",
        "# model.compile(loss='mean_absolute_error',optimizer='adam',metrics=['accuracy'])\n",
        "# model.summary()\n"
      ],
      "execution_count": 0,
      "outputs": [
        {
          "output_type": "stream",
          "text": [
            "Using TensorFlow backend.\n"
          ],
          "name": "stderr"
        }
      ]
    },
    {
      "metadata": {
        "id": "HifFfsz0xNgk",
        "colab_type": "code",
        "colab": {}
      },
      "cell_type": "code",
      "source": [
        "# history = model.fit(x_train,y_train,epochs=10,validation_data=(x_test,y_test))\n",
        "# results = model.predict(x_test)\n",
        "# plt.scatter(np.arange(100),results,c='r')\n",
        "# plt.scatter(np.arange(100),y_test,c='g')\n",
        "# plt.show()\n",
        "\n",
        "# plt.plot(history.history['loss'])\n",
        "# plt.show()"
      ],
      "execution_count": 0,
      "outputs": []
    },
    {
      "metadata": {
        "id": "h52kGMOQfP9N",
        "colab_type": "code",
        "outputId": "2bfc1aff-1673-4171-fb50-539feb29ac72",
        "colab": {
          "base_uri": "https://localhost:8080/",
          "height": 615
        }
      },
      "cell_type": "code",
      "source": [
        "\n",
        "from keras.layers import Input,concatenate\n",
        "from keras.models import Model\n",
        "# define two sets of inputs\n",
        "print\n",
        "inputA = Input(shape=(None,300))\n",
        "inputB = Input(shape=(None,300))\n",
        " \n",
        "# the first branch operates on the first input\n",
        "x1 = Dense(300, activation=\"linear\")(inputA)\n",
        "x1 = Model(inputs=inputA, outputs=x1)\n",
        " \n",
        "# the second branch opreates on the second input\n",
        "\n",
        "x2 = Dense(300, activation=\"linear\")(inputB)\n",
        "x2 = Model(inputs=inputB, outputs=x2)\n",
        "\n",
        "combinedinput = concatenate([x1.output, x2.output])\n",
        "# combinedinputDense = Dense(300, activation=\"linear\")(combinedinput)\n",
        "sharedLOut = GRU((300),return_sequences=True)(combinedinput)\n",
        "# sharedLayerModel = Model(inputs=combinedinput, output=sharedLOut)\n",
        "\n",
        "model1Input = concatenate([x1.output, sharedLOut])\n",
        "model1Out = GRU((4),return_sequences=False)(model1Input)\n",
        "# model1 = Model(inputs=model1Input, output=model1Out)\n",
        "\n",
        "\n",
        "model2Input = concatenate([x2.output, sharedLOut])\n",
        "model2Out = GRU((1),return_sequences=False)(model2Input)\n",
        "# model2 = Model(inputs=model2Input, output=model2Out)\n",
        "model = Model(input=[inputA,inputB], outputs=[model1Out,model2Out])\n",
        "optimizer = RMSprop(lr=0.001, rho=0.9, epsilon=None, decay=0.0)\n",
        "model.compile(loss='mse', optimizer=optimizer)\n",
        "model.summary()\n",
        "\n"
      ],
      "execution_count": 0,
      "outputs": [
        {
          "output_type": "stream",
          "text": [
            "WARNING:tensorflow:From /usr/local/lib/python3.6/dist-packages/tensorflow/python/framework/op_def_library.py:263: colocate_with (from tensorflow.python.framework.ops) is deprecated and will be removed in a future version.\n",
            "Instructions for updating:\n",
            "Colocations handled automatically by placer.\n",
            "__________________________________________________________________________________________________\n",
            "Layer (type)                    Output Shape         Param #     Connected to                     \n",
            "==================================================================================================\n",
            "input_1 (InputLayer)            (None, None, 300)    0                                            \n",
            "__________________________________________________________________________________________________\n",
            "input_2 (InputLayer)            (None, None, 300)    0                                            \n",
            "__________________________________________________________________________________________________\n",
            "dense_1 (Dense)                 (None, None, 300)    90300       input_1[0][0]                    \n",
            "__________________________________________________________________________________________________\n",
            "dense_2 (Dense)                 (None, None, 300)    90300       input_2[0][0]                    \n",
            "__________________________________________________________________________________________________\n",
            "concatenate_1 (Concatenate)     (None, None, 600)    0           dense_1[0][0]                    \n",
            "                                                                 dense_2[0][0]                    \n",
            "__________________________________________________________________________________________________\n",
            "gru_1 (GRU)                     (None, None, 300)    810900      concatenate_1[0][0]              \n",
            "__________________________________________________________________________________________________\n",
            "concatenate_2 (Concatenate)     (None, None, 600)    0           dense_1[0][0]                    \n",
            "                                                                 gru_1[0][0]                      \n",
            "__________________________________________________________________________________________________\n",
            "concatenate_3 (Concatenate)     (None, None, 600)    0           dense_2[0][0]                    \n",
            "                                                                 gru_1[0][0]                      \n",
            "__________________________________________________________________________________________________\n",
            "gru_2 (GRU)                     (None, 4)            7260        concatenate_2[0][0]              \n",
            "__________________________________________________________________________________________________\n",
            "gru_3 (GRU)                     (None, 1)            1806        concatenate_3[0][0]              \n",
            "==================================================================================================\n",
            "Total params: 1,000,566\n",
            "Trainable params: 1,000,566\n",
            "Non-trainable params: 0\n",
            "__________________________________________________________________________________________________\n"
          ],
          "name": "stdout"
        },
        {
          "output_type": "stream",
          "text": [
            "/usr/local/lib/python3.6/dist-packages/ipykernel_launcher.py:31: UserWarning: Update your `Model` call to the Keras 2 API: `Model(outputs=[<tf.Tenso..., inputs=[<tf.Tenso...)`\n"
          ],
          "name": "stderr"
        }
      ]
    },
    {
      "metadata": {
        "id": "XAi9Q95e8WEO",
        "colab_type": "code",
        "outputId": "61e8c905-8d0b-4c79-fccd-c1946f1253e0",
        "colab": {
          "base_uri": "https://localhost:8080/",
          "height": 3485
        }
      },
      "cell_type": "code",
      "source": [
        "# history = {}\n",
        "# results = {}\n",
        "# for j in np.arange(10):\n",
        "#   i = j\n",
        "#   X2_train = in1Val[i]\n",
        "#   Y2_train = out1Vali[i]\n",
        "#   X2_train = X2_train.reshape(1,*X2_train.shape)\n",
        "#   Y2_train = Y2_train.reshape(1,1)\n",
        "#   X1_train = in2Val[i]\n",
        "#   Y1_train = out2Vali[i]\n",
        "#   X1_train = X1_train.reshape(1,*X1_train.shape)\n",
        "#   Y1_train = Y1_train.reshape(1,*Y1_train.shape)\n",
        "#   i = int(j/2)\n",
        "#   X2_test = in1Val[i]\n",
        "#   Y2_test = out1Vali[i]\n",
        "#   X2_test = X2_test.reshape(1,*X2_test.shape)\n",
        "#   Y2_test = Y2_test.reshape(1,1)\n",
        "#   X1_test = in2Val[i]\n",
        "#   Y1_test = out2Vali[i]\n",
        "#   X1_test = X1_test.reshape(1,*X1_test.shape)\n",
        "#   Y1_test = Y1_test.reshape(1,*Y1_test.shape)\n",
        "# history = model.fit([X1_train,X2_train],[Y1_train,Y2_train],epochs=10,validation_data=([X1_test,X2_test],[Y1_test,Y2_test]))\n",
        "# results = model.predict(x_test)\n",
        "history = model.fit([in2Vali[0:4500],in1Vali[0:4500]],[out2Vali[0:4500],out1Vali[0:4500]],batch_size=100,epochs=100,validation_data=([in2Vali[4500:5000],in1Vali[4500:5000]],[out2Vali[4500:5000],out1Vali[4500:5000]]))\n"
      ],
      "execution_count": 0,
      "outputs": [
        {
          "output_type": "stream",
          "text": [
            "WARNING:tensorflow:From /usr/local/lib/python3.6/dist-packages/tensorflow/python/ops/math_ops.py:3066: to_int32 (from tensorflow.python.ops.math_ops) is deprecated and will be removed in a future version.\n",
            "Instructions for updating:\n",
            "Use tf.cast instead.\n",
            "Train on 4500 samples, validate on 500 samples\n",
            "Epoch 1/100\n",
            "4500/4500 [==============================] - 199s 44ms/step - loss: 0.3644 - gru_2_loss: 0.1199 - gru_3_loss: 0.2445 - val_loss: 0.1737 - val_gru_2_loss: 0.1133 - val_gru_3_loss: 0.0604\n",
            "Epoch 2/100\n",
            "4500/4500 [==============================] - 185s 41ms/step - loss: 0.3404 - gru_2_loss: 0.1098 - gru_3_loss: 0.2305 - val_loss: 0.2676 - val_gru_2_loss: 0.1121 - val_gru_3_loss: 0.1555\n",
            "Epoch 3/100\n",
            "4500/4500 [==============================] - 185s 41ms/step - loss: 0.3395 - gru_2_loss: 0.1094 - gru_3_loss: 0.2301 - val_loss: 0.2364 - val_gru_2_loss: 0.1109 - val_gru_3_loss: 0.1254\n",
            "Epoch 4/100\n",
            "4500/4500 [==============================] - 185s 41ms/step - loss: 0.3390 - gru_2_loss: 0.1091 - gru_3_loss: 0.2299 - val_loss: 0.1962 - val_gru_2_loss: 0.1116 - val_gru_3_loss: 0.0846\n",
            "Epoch 5/100\n",
            "4500/4500 [==============================] - 184s 41ms/step - loss: 0.3387 - gru_2_loss: 0.1088 - gru_3_loss: 0.2299 - val_loss: 0.2331 - val_gru_2_loss: 0.1107 - val_gru_3_loss: 0.1225\n",
            "Epoch 6/100\n",
            "4500/4500 [==============================] - 185s 41ms/step - loss: 0.3372 - gru_2_loss: 0.1084 - gru_3_loss: 0.2288 - val_loss: 0.1836 - val_gru_2_loss: 0.1126 - val_gru_3_loss: 0.0710\n",
            "Epoch 7/100\n",
            "4500/4500 [==============================] - 186s 41ms/step - loss: 0.3377 - gru_2_loss: 0.1086 - gru_3_loss: 0.2291 - val_loss: 0.2969 - val_gru_2_loss: 0.1128 - val_gru_3_loss: 0.1841\n",
            "Epoch 8/100\n",
            "4500/4500 [==============================] - 185s 41ms/step - loss: 0.3367 - gru_2_loss: 0.1086 - gru_3_loss: 0.2281 - val_loss: 0.2407 - val_gru_2_loss: 0.1113 - val_gru_3_loss: 0.1295\n",
            "Epoch 9/100\n",
            "4500/4500 [==============================] - 182s 40ms/step - loss: 0.3371 - gru_2_loss: 0.1083 - gru_3_loss: 0.2288 - val_loss: 0.2353 - val_gru_2_loss: 0.1105 - val_gru_3_loss: 0.1248\n",
            "Epoch 10/100\n",
            "4500/4500 [==============================] - 184s 41ms/step - loss: 0.3361 - gru_2_loss: 0.1085 - gru_3_loss: 0.2276 - val_loss: 0.2124 - val_gru_2_loss: 0.1114 - val_gru_3_loss: 0.1010\n",
            "Epoch 11/100\n",
            "4500/4500 [==============================] - 183s 41ms/step - loss: 0.3368 - gru_2_loss: 0.1086 - gru_3_loss: 0.2282 - val_loss: 0.2170 - val_gru_2_loss: 0.1114 - val_gru_3_loss: 0.1056\n",
            "Epoch 12/100\n",
            "4500/4500 [==============================] - 184s 41ms/step - loss: 0.3369 - gru_2_loss: 0.1084 - gru_3_loss: 0.2286 - val_loss: 0.2110 - val_gru_2_loss: 0.1109 - val_gru_3_loss: 0.1000\n",
            "Epoch 13/100\n",
            "4500/4500 [==============================] - 184s 41ms/step - loss: 0.3369 - gru_2_loss: 0.1083 - gru_3_loss: 0.2286 - val_loss: 0.2244 - val_gru_2_loss: 0.1106 - val_gru_3_loss: 0.1138\n",
            "Epoch 14/100\n",
            "4500/4500 [==============================] - 180s 40ms/step - loss: 0.3365 - gru_2_loss: 0.1082 - gru_3_loss: 0.2284 - val_loss: 0.2681 - val_gru_2_loss: 0.1105 - val_gru_3_loss: 0.1576\n",
            "Epoch 15/100\n",
            "4500/4500 [==============================] - 182s 40ms/step - loss: 0.3365 - gru_2_loss: 0.1082 - gru_3_loss: 0.2282 - val_loss: 0.2247 - val_gru_2_loss: 0.1105 - val_gru_3_loss: 0.1142\n",
            "Epoch 16/100\n",
            "4500/4500 [==============================] - 182s 41ms/step - loss: 0.3368 - gru_2_loss: 0.1084 - gru_3_loss: 0.2284 - val_loss: 0.2320 - val_gru_2_loss: 0.1104 - val_gru_3_loss: 0.1216\n",
            "Epoch 17/100\n",
            "4500/4500 [==============================] - 184s 41ms/step - loss: 0.3363 - gru_2_loss: 0.1081 - gru_3_loss: 0.2282 - val_loss: 0.1942 - val_gru_2_loss: 0.1104 - val_gru_3_loss: 0.0838\n",
            "Epoch 18/100\n",
            "4500/4500 [==============================] - 184s 41ms/step - loss: 0.3367 - gru_2_loss: 0.1082 - gru_3_loss: 0.2285 - val_loss: 0.2483 - val_gru_2_loss: 0.1105 - val_gru_3_loss: 0.1378\n",
            "Epoch 19/100\n",
            "4500/4500 [==============================] - 179s 40ms/step - loss: 0.3364 - gru_2_loss: 0.1081 - gru_3_loss: 0.2283 - val_loss: 0.2220 - val_gru_2_loss: 0.1104 - val_gru_3_loss: 0.1116\n",
            "Epoch 20/100\n",
            "4500/4500 [==============================] - 176s 39ms/step - loss: 0.3366 - gru_2_loss: 0.1082 - gru_3_loss: 0.2284 - val_loss: 0.2221 - val_gru_2_loss: 0.1103 - val_gru_3_loss: 0.1118\n",
            "Epoch 21/100\n",
            "4500/4500 [==============================] - 176s 39ms/step - loss: 0.3361 - gru_2_loss: 0.1081 - gru_3_loss: 0.2280 - val_loss: 0.2252 - val_gru_2_loss: 0.1104 - val_gru_3_loss: 0.1148\n",
            "Epoch 22/100\n",
            "4500/4500 [==============================] - 176s 39ms/step - loss: 0.3360 - gru_2_loss: 0.1080 - gru_3_loss: 0.2279 - val_loss: 0.2173 - val_gru_2_loss: 0.1104 - val_gru_3_loss: 0.1069\n",
            "Epoch 23/100\n",
            "4500/4500 [==============================] - 176s 39ms/step - loss: 0.3360 - gru_2_loss: 0.1081 - gru_3_loss: 0.2279 - val_loss: 0.2071 - val_gru_2_loss: 0.1103 - val_gru_3_loss: 0.0968\n",
            "Epoch 24/100\n",
            "4500/4500 [==============================] - 176s 39ms/step - loss: 0.3362 - gru_2_loss: 0.1080 - gru_3_loss: 0.2282 - val_loss: 0.2089 - val_gru_2_loss: 0.1105 - val_gru_3_loss: 0.0985\n",
            "Epoch 25/100\n",
            "4500/4500 [==============================] - 177s 39ms/step - loss: 0.3362 - gru_2_loss: 0.1082 - gru_3_loss: 0.2281 - val_loss: 0.2521 - val_gru_2_loss: 0.1106 - val_gru_3_loss: 0.1415\n",
            "Epoch 26/100\n",
            "4500/4500 [==============================] - 175s 39ms/step - loss: 0.3364 - gru_2_loss: 0.1081 - gru_3_loss: 0.2283 - val_loss: 0.2144 - val_gru_2_loss: 0.1104 - val_gru_3_loss: 0.1041\n",
            "Epoch 27/100\n",
            "4500/4500 [==============================] - 176s 39ms/step - loss: 0.3361 - gru_2_loss: 0.1081 - gru_3_loss: 0.2280 - val_loss: 0.2180 - val_gru_2_loss: 0.1103 - val_gru_3_loss: 0.1077\n",
            "Epoch 28/100\n",
            "4500/4500 [==============================] - 175s 39ms/step - loss: 0.3361 - gru_2_loss: 0.1081 - gru_3_loss: 0.2280 - val_loss: 0.2327 - val_gru_2_loss: 0.1103 - val_gru_3_loss: 0.1224\n",
            "Epoch 29/100\n",
            "4500/4500 [==============================] - 176s 39ms/step - loss: 0.3357 - gru_2_loss: 0.1080 - gru_3_loss: 0.2277 - val_loss: 0.2432 - val_gru_2_loss: 0.1110 - val_gru_3_loss: 0.1323\n",
            "Epoch 30/100\n",
            "4500/4500 [==============================] - 175s 39ms/step - loss: 0.3360 - gru_2_loss: 0.1079 - gru_3_loss: 0.2281 - val_loss: 0.2445 - val_gru_2_loss: 0.1105 - val_gru_3_loss: 0.1340\n",
            "Epoch 31/100\n",
            "4500/4500 [==============================] - 177s 39ms/step - loss: 0.3360 - gru_2_loss: 0.1081 - gru_3_loss: 0.2280 - val_loss: 0.2156 - val_gru_2_loss: 0.1103 - val_gru_3_loss: 0.1053\n",
            "Epoch 32/100\n",
            "4500/4500 [==============================] - 177s 39ms/step - loss: 0.3359 - gru_2_loss: 0.1080 - gru_3_loss: 0.2279 - val_loss: 0.2322 - val_gru_2_loss: 0.1106 - val_gru_3_loss: 0.1216\n",
            "Epoch 33/100\n",
            "4500/4500 [==============================] - 179s 40ms/step - loss: 0.3358 - gru_2_loss: 0.1080 - gru_3_loss: 0.2278 - val_loss: 0.2401 - val_gru_2_loss: 0.1104 - val_gru_3_loss: 0.1297\n",
            "Epoch 34/100\n",
            "4500/4500 [==============================] - 180s 40ms/step - loss: 0.3361 - gru_2_loss: 0.1079 - gru_3_loss: 0.2282 - val_loss: 0.2209 - val_gru_2_loss: 0.1103 - val_gru_3_loss: 0.1105\n",
            "Epoch 35/100\n",
            "4500/4500 [==============================] - 181s 40ms/step - loss: 0.3360 - gru_2_loss: 0.1080 - gru_3_loss: 0.2280 - val_loss: 0.2186 - val_gru_2_loss: 0.1104 - val_gru_3_loss: 0.1082\n",
            "Epoch 36/100\n",
            "4500/4500 [==============================] - 179s 40ms/step - loss: 0.3356 - gru_2_loss: 0.1079 - gru_3_loss: 0.2277 - val_loss: 0.2226 - val_gru_2_loss: 0.1104 - val_gru_3_loss: 0.1122\n",
            "Epoch 37/100\n",
            "4500/4500 [==============================] - 178s 39ms/step - loss: 0.3358 - gru_2_loss: 0.1080 - gru_3_loss: 0.2279 - val_loss: 0.2436 - val_gru_2_loss: 0.1112 - val_gru_3_loss: 0.1323\n",
            "Epoch 38/100\n",
            "4500/4500 [==============================] - 178s 40ms/step - loss: 0.3359 - gru_2_loss: 0.1080 - gru_3_loss: 0.2280 - val_loss: 0.2188 - val_gru_2_loss: 0.1105 - val_gru_3_loss: 0.1083\n",
            "Epoch 39/100\n",
            "4500/4500 [==============================] - 176s 39ms/step - loss: 0.3361 - gru_2_loss: 0.1080 - gru_3_loss: 0.2281 - val_loss: 0.2355 - val_gru_2_loss: 0.1109 - val_gru_3_loss: 0.1245\n",
            "Epoch 40/100\n",
            "4500/4500 [==============================] - 177s 39ms/step - loss: 0.3356 - gru_2_loss: 0.1079 - gru_3_loss: 0.2277 - val_loss: 0.2402 - val_gru_2_loss: 0.1111 - val_gru_3_loss: 0.1291\n",
            "Epoch 41/100\n",
            "4500/4500 [==============================] - 176s 39ms/step - loss: 0.3360 - gru_2_loss: 0.1080 - gru_3_loss: 0.2280 - val_loss: 0.2341 - val_gru_2_loss: 0.1103 - val_gru_3_loss: 0.1239\n",
            "Epoch 42/100\n",
            "4500/4500 [==============================] - 176s 39ms/step - loss: 0.3358 - gru_2_loss: 0.1079 - gru_3_loss: 0.2279 - val_loss: 0.2146 - val_gru_2_loss: 0.1103 - val_gru_3_loss: 0.1043\n",
            "Epoch 43/100\n",
            "4500/4500 [==============================] - 176s 39ms/step - loss: 0.3360 - gru_2_loss: 0.1080 - gru_3_loss: 0.2280 - val_loss: 0.2239 - val_gru_2_loss: 0.1103 - val_gru_3_loss: 0.1136\n",
            "Epoch 44/100\n",
            "4500/4500 [==============================] - 175s 39ms/step - loss: 0.3356 - gru_2_loss: 0.1080 - gru_3_loss: 0.2276 - val_loss: 0.2117 - val_gru_2_loss: 0.1103 - val_gru_3_loss: 0.1014\n",
            "Epoch 45/100\n",
            "4500/4500 [==============================] - 176s 39ms/step - loss: 0.3356 - gru_2_loss: 0.1081 - gru_3_loss: 0.2276 - val_loss: 0.2041 - val_gru_2_loss: 0.1103 - val_gru_3_loss: 0.0938\n",
            "Epoch 46/100\n",
            "4500/4500 [==============================] - 177s 39ms/step - loss: 0.3358 - gru_2_loss: 0.1079 - gru_3_loss: 0.2279 - val_loss: 0.2416 - val_gru_2_loss: 0.1103 - val_gru_3_loss: 0.1313\n",
            "Epoch 47/100\n",
            "4500/4500 [==============================] - 176s 39ms/step - loss: 0.3355 - gru_2_loss: 0.1080 - gru_3_loss: 0.2276 - val_loss: 0.2119 - val_gru_2_loss: 0.1103 - val_gru_3_loss: 0.1016\n",
            "Epoch 48/100\n",
            "4500/4500 [==============================] - 176s 39ms/step - loss: 0.3359 - gru_2_loss: 0.1079 - gru_3_loss: 0.2280 - val_loss: 0.2363 - val_gru_2_loss: 0.1103 - val_gru_3_loss: 0.1259\n",
            "Epoch 49/100\n",
            "4500/4500 [==============================] - 179s 40ms/step - loss: 0.3356 - gru_2_loss: 0.1081 - gru_3_loss: 0.2275 - val_loss: 0.2263 - val_gru_2_loss: 0.1103 - val_gru_3_loss: 0.1159\n",
            "Epoch 50/100\n",
            "4500/4500 [==============================] - 177s 39ms/step - loss: 0.3356 - gru_2_loss: 0.1079 - gru_3_loss: 0.2277 - val_loss: 0.2450 - val_gru_2_loss: 0.1109 - val_gru_3_loss: 0.1341\n",
            "Epoch 51/100\n",
            "4500/4500 [==============================] - 178s 40ms/step - loss: 0.3355 - gru_2_loss: 0.1079 - gru_3_loss: 0.2275 - val_loss: 0.2376 - val_gru_2_loss: 0.1105 - val_gru_3_loss: 0.1271\n",
            "Epoch 52/100\n",
            "4500/4500 [==============================] - 176s 39ms/step - loss: 0.3358 - gru_2_loss: 0.1080 - gru_3_loss: 0.2278 - val_loss: 0.2229 - val_gru_2_loss: 0.1103 - val_gru_3_loss: 0.1126\n",
            "Epoch 53/100\n",
            "4500/4500 [==============================] - 175s 39ms/step - loss: 0.3358 - gru_2_loss: 0.1079 - gru_3_loss: 0.2279 - val_loss: 0.2338 - val_gru_2_loss: 0.1104 - val_gru_3_loss: 0.1234\n",
            "Epoch 54/100\n",
            "4500/4500 [==============================] - 174s 39ms/step - loss: 0.3358 - gru_2_loss: 0.1079 - gru_3_loss: 0.2279 - val_loss: 0.2187 - val_gru_2_loss: 0.1108 - val_gru_3_loss: 0.1078\n",
            "Epoch 55/100\n",
            "4500/4500 [==============================] - 175s 39ms/step - loss: 0.3355 - gru_2_loss: 0.1079 - gru_3_loss: 0.2275 - val_loss: 0.2355 - val_gru_2_loss: 0.1105 - val_gru_3_loss: 0.1250\n",
            "Epoch 56/100\n",
            "4500/4500 [==============================] - 174s 39ms/step - loss: 0.3357 - gru_2_loss: 0.1079 - gru_3_loss: 0.2278 - val_loss: 0.2292 - val_gru_2_loss: 0.1104 - val_gru_3_loss: 0.1188\n",
            "Epoch 57/100\n",
            "4500/4500 [==============================] - 177s 39ms/step - loss: 0.3355 - gru_2_loss: 0.1080 - gru_3_loss: 0.2275 - val_loss: 0.2630 - val_gru_2_loss: 0.1105 - val_gru_3_loss: 0.1525\n",
            "Epoch 58/100\n",
            "4500/4500 [==============================] - 175s 39ms/step - loss: 0.3362 - gru_2_loss: 0.1082 - gru_3_loss: 0.2280 - val_loss: 0.2402 - val_gru_2_loss: 0.1107 - val_gru_3_loss: 0.1296\n",
            "Epoch 59/100\n",
            "4500/4500 [==============================] - 178s 40ms/step - loss: 0.3355 - gru_2_loss: 0.1079 - gru_3_loss: 0.2275 - val_loss: 0.2167 - val_gru_2_loss: 0.1103 - val_gru_3_loss: 0.1065\n",
            "Epoch 60/100\n",
            "4500/4500 [==============================] - 177s 39ms/step - loss: 0.3356 - gru_2_loss: 0.1079 - gru_3_loss: 0.2277 - val_loss: 0.2401 - val_gru_2_loss: 0.1106 - val_gru_3_loss: 0.1295\n",
            "Epoch 61/100\n",
            "4500/4500 [==============================] - 174s 39ms/step - loss: 0.3356 - gru_2_loss: 0.1078 - gru_3_loss: 0.2278 - val_loss: 0.2385 - val_gru_2_loss: 0.1106 - val_gru_3_loss: 0.1279\n",
            "Epoch 62/100\n",
            "4500/4500 [==============================] - 175s 39ms/step - loss: 0.3357 - gru_2_loss: 0.1079 - gru_3_loss: 0.2278 - val_loss: 0.2353 - val_gru_2_loss: 0.1104 - val_gru_3_loss: 0.1250\n",
            "Epoch 63/100\n",
            "4500/4500 [==============================] - 176s 39ms/step - loss: 0.3357 - gru_2_loss: 0.1081 - gru_3_loss: 0.2276 - val_loss: 0.2399 - val_gru_2_loss: 0.1103 - val_gru_3_loss: 0.1296\n",
            "Epoch 64/100\n",
            "4500/4500 [==============================] - 180s 40ms/step - loss: 0.3355 - gru_2_loss: 0.1080 - gru_3_loss: 0.2275 - val_loss: 0.2251 - val_gru_2_loss: 0.1103 - val_gru_3_loss: 0.1148\n",
            "Epoch 65/100\n",
            "4500/4500 [==============================] - 178s 40ms/step - loss: 0.3358 - gru_2_loss: 0.1080 - gru_3_loss: 0.2278 - val_loss: 0.2530 - val_gru_2_loss: 0.1104 - val_gru_3_loss: 0.1426\n",
            "Epoch 66/100\n",
            "4500/4500 [==============================] - 178s 40ms/step - loss: 0.3358 - gru_2_loss: 0.1080 - gru_3_loss: 0.2278 - val_loss: 0.2263 - val_gru_2_loss: 0.1104 - val_gru_3_loss: 0.1159\n",
            "Epoch 67/100\n",
            "4500/4500 [==============================] - 178s 40ms/step - loss: 0.3354 - gru_2_loss: 0.1078 - gru_3_loss: 0.2276 - val_loss: 0.2350 - val_gru_2_loss: 0.1108 - val_gru_3_loss: 0.1242\n",
            "Epoch 68/100\n",
            "4500/4500 [==============================] - 178s 40ms/step - loss: 0.3382 - gru_2_loss: 0.1102 - gru_3_loss: 0.2280 - val_loss: 0.2191 - val_gru_2_loss: 0.1105 - val_gru_3_loss: 0.1086\n",
            "Epoch 69/100\n",
            "4500/4500 [==============================] - 176s 39ms/step - loss: 0.3360 - gru_2_loss: 0.1081 - gru_3_loss: 0.2280 - val_loss: 0.2437 - val_gru_2_loss: 0.1105 - val_gru_3_loss: 0.1332\n",
            "Epoch 70/100\n",
            "4500/4500 [==============================] - 175s 39ms/step - loss: 0.3356 - gru_2_loss: 0.1079 - gru_3_loss: 0.2277 - val_loss: 0.2224 - val_gru_2_loss: 0.1103 - val_gru_3_loss: 0.1121\n",
            "Epoch 71/100\n",
            "4500/4500 [==============================] - 178s 40ms/step - loss: 0.3356 - gru_2_loss: 0.1080 - gru_3_loss: 0.2276 - val_loss: 0.2318 - val_gru_2_loss: 0.1105 - val_gru_3_loss: 0.1212\n",
            "Epoch 72/100\n",
            "4500/4500 [==============================] - 176s 39ms/step - loss: 0.3356 - gru_2_loss: 0.1079 - gru_3_loss: 0.2276 - val_loss: 0.2184 - val_gru_2_loss: 0.1144 - val_gru_3_loss: 0.1040\n",
            "Epoch 73/100\n",
            "4500/4500 [==============================] - 176s 39ms/step - loss: 0.3359 - gru_2_loss: 0.1082 - gru_3_loss: 0.2277 - val_loss: 0.2496 - val_gru_2_loss: 0.1104 - val_gru_3_loss: 0.1392\n",
            "Epoch 74/100\n",
            "4500/4500 [==============================] - 176s 39ms/step - loss: 0.3358 - gru_2_loss: 0.1078 - gru_3_loss: 0.2280 - val_loss: 0.2187 - val_gru_2_loss: 0.1104 - val_gru_3_loss: 0.1083\n",
            "Epoch 75/100\n",
            "4500/4500 [==============================] - 177s 39ms/step - loss: 0.3355 - gru_2_loss: 0.1079 - gru_3_loss: 0.2276 - val_loss: 0.2400 - val_gru_2_loss: 0.1103 - val_gru_3_loss: 0.1298\n",
            "Epoch 76/100\n",
            "4500/4500 [==============================] - 178s 40ms/step - loss: 0.3355 - gru_2_loss: 0.1081 - gru_3_loss: 0.2274 - val_loss: 0.2142 - val_gru_2_loss: 0.1104 - val_gru_3_loss: 0.1038\n",
            "Epoch 77/100\n",
            "4500/4500 [==============================] - 177s 39ms/step - loss: 0.3357 - gru_2_loss: 0.1082 - gru_3_loss: 0.2275 - val_loss: 0.2372 - val_gru_2_loss: 0.1102 - val_gru_3_loss: 0.1269\n",
            "Epoch 78/100\n",
            "4500/4500 [==============================] - 180s 40ms/step - loss: 0.3353 - gru_2_loss: 0.1078 - gru_3_loss: 0.2275 - val_loss: 0.2142 - val_gru_2_loss: 0.1103 - val_gru_3_loss: 0.1039\n",
            "Epoch 79/100\n",
            "4500/4500 [==============================] - 181s 40ms/step - loss: 0.3393 - gru_2_loss: 0.1098 - gru_3_loss: 0.2295 - val_loss: 0.2076 - val_gru_2_loss: 0.1122 - val_gru_3_loss: 0.0954\n",
            "Epoch 80/100\n",
            "4500/4500 [==============================] - 179s 40ms/step - loss: 0.3357 - gru_2_loss: 0.1080 - gru_3_loss: 0.2278 - val_loss: 0.2283 - val_gru_2_loss: 0.1103 - val_gru_3_loss: 0.1180\n",
            "Epoch 81/100\n",
            "4500/4500 [==============================] - 179s 40ms/step - loss: 0.3355 - gru_2_loss: 0.1079 - gru_3_loss: 0.2277 - val_loss: 0.2374 - val_gru_2_loss: 0.1104 - val_gru_3_loss: 0.1269\n",
            "Epoch 82/100\n",
            "4500/4500 [==============================] - 178s 40ms/step - loss: 0.3357 - gru_2_loss: 0.1080 - gru_3_loss: 0.2277 - val_loss: 0.2272 - val_gru_2_loss: 0.1104 - val_gru_3_loss: 0.1167\n",
            "Epoch 83/100\n",
            "4500/4500 [==============================] - 180s 40ms/step - loss: 0.3358 - gru_2_loss: 0.1080 - gru_3_loss: 0.2278 - val_loss: 0.2203 - val_gru_2_loss: 0.1103 - val_gru_3_loss: 0.1100\n",
            "Epoch 84/100\n",
            "4500/4500 [==============================] - 179s 40ms/step - loss: 0.3356 - gru_2_loss: 0.1079 - gru_3_loss: 0.2277 - val_loss: 0.2227 - val_gru_2_loss: 0.1104 - val_gru_3_loss: 0.1123\n",
            "Epoch 85/100\n",
            "4500/4500 [==============================] - 178s 40ms/step - loss: 0.3368 - gru_2_loss: 0.1085 - gru_3_loss: 0.2283 - val_loss: 0.2400 - val_gru_2_loss: 0.1105 - val_gru_3_loss: 0.1295\n",
            "Epoch 86/100\n",
            "4500/4500 [==============================] - 176s 39ms/step - loss: 0.3357 - gru_2_loss: 0.1079 - gru_3_loss: 0.2278 - val_loss: 0.2311 - val_gru_2_loss: 0.1103 - val_gru_3_loss: 0.1209\n",
            "Epoch 87/100\n",
            "4500/4500 [==============================] - 177s 39ms/step - loss: 0.3355 - gru_2_loss: 0.1079 - gru_3_loss: 0.2276 - val_loss: 0.2238 - val_gru_2_loss: 0.1105 - val_gru_3_loss: 0.1133\n",
            "Epoch 88/100\n",
            "4500/4500 [==============================] - 177s 39ms/step - loss: 0.3357 - gru_2_loss: 0.1079 - gru_3_loss: 0.2278 - val_loss: 0.2319 - val_gru_2_loss: 0.1103 - val_gru_3_loss: 0.1216\n",
            "Epoch 89/100\n",
            "4500/4500 [==============================] - 177s 39ms/step - loss: 0.3357 - gru_2_loss: 0.1081 - gru_3_loss: 0.2276 - val_loss: 0.2314 - val_gru_2_loss: 0.1103 - val_gru_3_loss: 0.1211\n",
            "Epoch 90/100\n",
            "4500/4500 [==============================] - 176s 39ms/step - loss: 0.3357 - gru_2_loss: 0.1078 - gru_3_loss: 0.2279 - val_loss: 0.2266 - val_gru_2_loss: 0.1105 - val_gru_3_loss: 0.1161\n",
            "Epoch 91/100\n",
            "4500/4500 [==============================] - 177s 39ms/step - loss: 0.3354 - gru_2_loss: 0.1078 - gru_3_loss: 0.2276 - val_loss: 0.2133 - val_gru_2_loss: 0.1103 - val_gru_3_loss: 0.1029\n",
            "Epoch 92/100\n",
            "4500/4500 [==============================] - 178s 40ms/step - loss: 0.3356 - gru_2_loss: 0.1078 - gru_3_loss: 0.2277 - val_loss: 0.2393 - val_gru_2_loss: 0.1109 - val_gru_3_loss: 0.1284\n",
            "Epoch 93/100\n",
            "4500/4500 [==============================] - 176s 39ms/step - loss: 0.3356 - gru_2_loss: 0.1078 - gru_3_loss: 0.2278 - val_loss: 0.2217 - val_gru_2_loss: 0.1104 - val_gru_3_loss: 0.1113\n",
            "Epoch 94/100\n",
            "4500/4500 [==============================] - 176s 39ms/step - loss: 0.3357 - gru_2_loss: 0.1079 - gru_3_loss: 0.2278 - val_loss: 0.2300 - val_gru_2_loss: 0.1103 - val_gru_3_loss: 0.1198\n",
            "Epoch 95/100\n",
            "4500/4500 [==============================] - 175s 39ms/step - loss: 0.3355 - gru_2_loss: 0.1079 - gru_3_loss: 0.2276 - val_loss: 0.2400 - val_gru_2_loss: 0.1103 - val_gru_3_loss: 0.1297\n",
            "Epoch 96/100\n",
            "4500/4500 [==============================] - 175s 39ms/step - loss: 0.3356 - gru_2_loss: 0.1078 - gru_3_loss: 0.2277 - val_loss: 0.2338 - val_gru_2_loss: 0.1108 - val_gru_3_loss: 0.1231\n",
            "Epoch 97/100\n",
            "4500/4500 [==============================] - 176s 39ms/step - loss: 0.3354 - gru_2_loss: 0.1078 - gru_3_loss: 0.2276 - val_loss: 0.2302 - val_gru_2_loss: 0.1104 - val_gru_3_loss: 0.1198\n",
            "Epoch 98/100\n",
            "4500/4500 [==============================] - 177s 39ms/step - loss: 0.3353 - gru_2_loss: 0.1079 - gru_3_loss: 0.2274 - val_loss: 0.2123 - val_gru_2_loss: 0.1103 - val_gru_3_loss: 0.1020\n",
            "Epoch 99/100\n",
            "4500/4500 [==============================] - 176s 39ms/step - loss: 0.3360 - gru_2_loss: 0.1081 - gru_3_loss: 0.2280 - val_loss: 0.2362 - val_gru_2_loss: 0.1103 - val_gru_3_loss: 0.1259\n",
            "Epoch 100/100\n",
            "4500/4500 [==============================] - 174s 39ms/step - loss: 0.3353 - gru_2_loss: 0.1078 - gru_3_loss: 0.2275 - val_loss: 0.2448 - val_gru_2_loss: 0.1105 - val_gru_3_loss: 0.1343\n"
          ],
          "name": "stdout"
        }
      ]
    },
    {
      "metadata": {
        "id": "fd5NbObPx7jj",
        "colab_type": "code",
        "outputId": "d1480423-22cf-4ab7-a35b-752cd83fad76",
        "colab": {
          "base_uri": "https://localhost:8080/",
          "height": 269
        }
      },
      "cell_type": "code",
      "source": [
        "predicted = model.predict([in2Vali[4500:5000],in1Vali[4500:5000]])\n",
        "\n",
        "plt.plot(history.history['loss'])\n",
        "plt.show()"
      ],
      "execution_count": 0,
      "outputs": [
        {
          "output_type": "display_data",
          "data": {
            "image/png": "[encoded data removed]",
            "text/plain": [
              "<Figure size 432x288 with 1 Axes>"
            ]
          },
          "metadata": {
            "tags": []
          }
        }
      ]
    },
    {
      "metadata": {
        "id": "iaWu5ymBE2bH",
        "colab_type": "code",
        "outputId": "14faecd2-40d1-4021-da93-64c54a571b77",
        "colab": {
          "base_uri": "https://localhost:8080/",
          "height": 51
        }
      },
      "cell_type": "code",
      "source": [
        "[predA,predB] = predicted\n",
        "print(predA.shape,predB.shape)\n",
        "actA,actB = out2Vali[4500:5000],out1Vali[4500:5000]\n",
        "actB = actB.reshape(500,1)\n",
        "print(actA.shape,actB.shape)"
      ],
      "execution_count": 0,
      "outputs": [
        {
          "output_type": "stream",
          "text": [
            "(500, 4) (500, 1)\n",
            "(500, 4) (500, 1)\n"
          ],
          "name": "stdout"
        }
      ]
    },
    {
      "metadata": {
        "id": "bmf0a5nLGf69",
        "colab_type": "code",
        "colab": {}
      },
      "cell_type": "code",
      "source": [
        "predA = (predA > 0.5)*1\n",
        "predB = (predB > 0.5)*1"
      ],
      "execution_count": 0,
      "outputs": []
    },
    {
      "metadata": {
        "id": "v_F3T6_oMZ8b",
        "colab_type": "code",
        "colab": {}
      },
      "cell_type": "code",
      "source": [
        "from sklearn.metrics import f1_score\n",
        "import seaborn as sns\n",
        "def confusionMatrix(cm,f1mi, f1ma):\n",
        "    #T_class = list(map(int,y_adm_val >= t ))\n",
        "    #out = predict(X_adm_val,Theta,t,Mean,Std)\n",
        "#     cm = confusion_matrix(a, b)\n",
        "    ax= plt.subplot()\n",
        "    sns.heatmap(cm, annot=True, ax = ax); #annot=True to annotate cells\n",
        "\n",
        "    # labels, title and ticks\n",
        "    ax.set_xlabel('Predicted labels');ax.set_ylabel('True labels'); \n",
        "    ax.set_title('Confusion Matrix'); \n",
        "    #ax.xaxis.set_ticklabels(['1', '0']); ax.yaxis.set_ticklabels(['1', '0'])\n",
        "    print(\"Micro-F1-score\",f1mi)\n",
        "    print(\"Macro-F1-score\",f1ma)\n",
        "#     print(\"precision\",precision_score(T_class,out, average = 'micro'))\n",
        "#     print(\"Accuracy\",accuracy_score(T_class,out))\n",
        "#     print(\"Recall\",recall_score(T_class,out, average = 'micro'))\n",
        "\n",
        "    "
      ],
      "execution_count": 0,
      "outputs": []
    },
    {
      "metadata": {
        "id": "nJS8yMI29SOA",
        "colab_type": "code",
        "outputId": "92f66580-74db-4dac-c815-a2d68c7f9d45",
        "colab": {
          "base_uri": "https://localhost:8080/",
          "height": 680
        }
      },
      "cell_type": "code",
      "source": [
        "from sklearn.metrics import confusion_matrix \n",
        "from sklearn.metrics import accuracy_score \n",
        "from sklearn.metrics import classification_report \n",
        "resultsA = confusion_matrix(actA.argmax(axis=1), predA.argmax(axis=1)) \n",
        "f1_scoreAMi = f1_score(actA.argmax(axis=1), predA.argmax(axis=1), average = 'micro') \n",
        "f1_scoreAMa = f1_score(actA.argmax(axis=1), predA.argmax(axis=1), average = 'macro') \n",
        "# confusionMatrix(resultsA,f1_scoreAMi,f1_scoreAMa)\n",
        "print('Confusion Matrix Test Data - Task 1 : ')\n",
        "print(resultsA) \n",
        "print('Accuracy Score Test Data - Task 1 :',accuracy_score(actA, predA) )\n",
        "print('Report Test Data - Task 1 : ')\n",
        "print(classification_report(actA, predA) )\n",
        "resultsB = confusion_matrix(actB.argmax(axis=1), predB.argmax(axis=1)) \n",
        "f1_scoreBMi = f1_score(actB.argmax(axis=1), predB.argmax(axis=1), average = 'micro') \n",
        "f1_scoreBMa = f1_score(actB.argmax(axis=1), predB.argmax(axis=1), average = 'macro') \n",
        "# confusionMatrix(resultsB,f1_scoreBMi,f1_scoreBMa)\n",
        "print('Confusion Matrix Test Data - Task 2 : ')\n",
        "print(resultsB) \n",
        "print('Accuracy Score Test Data - Task 2 :',accuracy_score(actB, predB) )\n",
        "print('Report Test Data - Task 2 : ')\n",
        "print(classification_report(actB, predB) )"
      ],
      "execution_count": 0,
      "outputs": [
        {
          "output_type": "stream",
          "text": [
            "Confusion Matrix Test Data - Task 1 : \n",
            "[[  0   0   0  37]\n",
            " [  0   0   0  10]\n",
            " [  0   0   0  93]\n",
            " [  0   0   0 360]]\n",
            "Accuracy Score Test Data - Task 1 : 0.72\n",
            "Report Test Data - Task 1 : \n",
            "              precision    recall  f1-score   support\n",
            "\n",
            "           0       0.00      0.00      0.00        37\n",
            "           1       0.00      0.00      0.00        10\n",
            "           2       0.00      0.00      0.00        93\n",
            "           3       0.72      1.00      0.84       360\n",
            "\n",
            "   micro avg       0.72      0.72      0.72       500\n",
            "   macro avg       0.18      0.25      0.21       500\n",
            "weighted avg       0.52      0.72      0.60       500\n",
            " samples avg       0.72      0.72      0.72       500\n",
            "\n",
            "Confusion Matrix Test Data - Task 2 : \n",
            "[[500]]\n",
            "Accuracy Score Test Data - Task 2 : 1.0\n",
            "Report Test Data - Task 2 : \n",
            "              precision    recall  f1-score   support\n",
            "\n",
            "           0       1.00      1.00      1.00       500\n",
            "\n",
            "   micro avg       1.00      1.00      1.00       500\n",
            "   macro avg       1.00      1.00      1.00       500\n",
            "weighted avg       1.00      1.00      1.00       500\n",
            "\n"
          ],
          "name": "stdout"
        },
        {
          "output_type": "stream",
          "text": [
            "/usr/local/lib/python3.6/dist-packages/sklearn/metrics/classification.py:1143: UndefinedMetricWarning: F-score is ill-defined and being set to 0.0 in labels with no predicted samples.\n",
            "  'precision', 'predicted', average, warn_for)\n",
            "/usr/local/lib/python3.6/dist-packages/sklearn/metrics/classification.py:1143: UndefinedMetricWarning: Precision and F-score are ill-defined and being set to 0.0 in labels with no predicted samples.\n",
            "  'precision', 'predicted', average, warn_for)\n",
            "/usr/local/lib/python3.6/dist-packages/sklearn/metrics/classification.py:1143: UndefinedMetricWarning: Precision and F-score are ill-defined and being set to 0.0 in labels with no predicted samples.\n",
            "  'precision', 'predicted', average, warn_for)\n",
            "/usr/local/lib/python3.6/dist-packages/sklearn/metrics/classification.py:1143: UndefinedMetricWarning: Precision and F-score are ill-defined and being set to 0.0 in labels with no predicted samples.\n",
            "  'precision', 'predicted', average, warn_for)\n"
          ],
          "name": "stderr"
        }
      ]
    },
    {
      "metadata": {
        "id": "mByLB8_5Ixck",
        "colab_type": "code",
        "outputId": "fad3f29a-75c1-4c56-8cc6-79b34a46bc12",
        "colab": {
          "base_uri": "https://localhost:8080/",
          "height": 1085
        }
      },
      "cell_type": "code",
      "source": [
        "predicted = model.predict([in2Vali[0:5000],in1Vali[0:5000]])\n",
        "\n",
        "plt.plot(history.history['loss'])\n",
        "plt.show()\n",
        "[predA,predB] = predicted\n",
        "print(predA.shape,predB.shape)\n",
        "actA,actB = out2Vali[0:5000],out1Vali[0:5000]\n",
        "actB = actB.reshape(5000,1)\n",
        "print(actA.shape,actB.shape)\n",
        "predA = (predA > 0.5)*1\n",
        "predB = (predB > 0.5)*1\n",
        "\n",
        "resultsA = confusion_matrix(actA.argmax(axis=1), predA.argmax(axis=1)) \n",
        "# confusionMatrix(resultsA)\n",
        "f1_scoreAMi = f1_score(actA.argmax(axis=1), predA.argmax(axis=1), average = 'micro') \n",
        "f1_scoreAMa = f1_score(actA.argmax(axis=1), predA.argmax(axis=1), average = 'macro') \n",
        "# confusionMatrix(resultsA,f1_scoreAMi,f1_scoreAMa)\n",
        "print('Confusion Matrix Train Data - Task 1 : ')\n",
        "print(resultsA) \n",
        "print('Accuracy Score Train Data - Task 1 :',accuracy_score(actA, predA) )\n",
        "print('Report Train Data - Task 1 : ')\n",
        "print(classification_report(actA, predA) )\n",
        "resultsB = confusion_matrix(actB.argmax(axis=1), predB.argmax(axis=1)) \n",
        "resultsB = confusion_matrix(actB.argmax(axis=1), predB.argmax(axis=1)) \n",
        "f1_scoreBMi = f1_score(actB.argmax(axis=1), predB.argmax(axis=1), average = 'micro') \n",
        "f1_scoreBMa = f1_score(actB.argmax(axis=1), predB.argmax(axis=1), average = 'macro') \n",
        "# confusionMatrix(resultsB,f1_scoreBMi,f1_scoreBMa)\n",
        "print('Confusion Matrix Train Data - Task 2 : ')\n",
        "print(resultsB) \n",
        "print('Accuracy Score Train Data - Task 2 :',accuracy_score(actB, predB) )\n",
        "print('Report Train Data - Task 2 : ')\n",
        "print(classification_report(actB, predB) )"
      ],
      "execution_count": 0,
      "outputs": [
        {
          "output_type": "display_data",
          "data": {
            "image/png": "[encoded data removed]",
            "text/plain": [
              "<Figure size 432x288 with 1 Axes>"
            ]
          },
          "metadata": {
            "tags": []
          }
        },
        {
          "output_type": "stream",
          "text": [
            "(5000, 4) (5000, 1)\n",
            "(5000, 4) (5000, 1)\n",
            "Confusion Matrix Train Data - Task 1 : \n",
            "[[   0    0    0  371]\n",
            " [   0    0    0   85]\n",
            " [   0    0    1  906]\n",
            " [   0    0    0 3637]]\n",
            "Accuracy Score Train Data - Task 1 : 0.7276\n",
            "Report Train Data - Task 1 : \n",
            "              precision    recall  f1-score   support\n",
            "\n",
            "           0       0.00      0.00      0.00       371\n",
            "           1       0.00      0.00      0.00        85\n",
            "           2       1.00      0.00      0.00       907\n",
            "           3       0.73      1.00      0.84      3637\n",
            "\n",
            "   micro avg       0.73      0.73      0.73      5000\n",
            "   macro avg       0.43      0.25      0.21      5000\n",
            "weighted avg       0.71      0.73      0.61      5000\n",
            " samples avg       0.73      0.73      0.73      5000\n",
            "\n",
            "Confusion Matrix Train Data - Task 2 : \n",
            "[[5000]]\n",
            "Accuracy Score Train Data - Task 2 : 0.6854\n",
            "Report Train Data - Task 2 : \n",
            "              precision    recall  f1-score   support\n",
            "\n",
            "           0       0.69      1.00      0.81      3427\n",
            "           1       0.00      0.00      0.00      1573\n",
            "\n",
            "   micro avg       0.69      0.69      0.69      5000\n",
            "   macro avg       0.34      0.50      0.41      5000\n",
            "weighted avg       0.47      0.69      0.56      5000\n",
            "\n"
          ],
          "name": "stdout"
        },
        {
          "output_type": "stream",
          "text": [
            "/usr/local/lib/python3.6/dist-packages/sklearn/metrics/classification.py:1143: UndefinedMetricWarning: F-score is ill-defined and being set to 0.0 in labels with no predicted samples.\n",
            "  'precision', 'predicted', average, warn_for)\n",
            "/usr/local/lib/python3.6/dist-packages/sklearn/metrics/classification.py:1143: UndefinedMetricWarning: Precision and F-score are ill-defined and being set to 0.0 in labels with no predicted samples.\n",
            "  'precision', 'predicted', average, warn_for)\n",
            "/usr/local/lib/python3.6/dist-packages/sklearn/metrics/classification.py:1143: UndefinedMetricWarning: Precision and F-score are ill-defined and being set to 0.0 in labels with no predicted samples.\n",
            "  'precision', 'predicted', average, warn_for)\n",
            "/usr/local/lib/python3.6/dist-packages/sklearn/metrics/classification.py:1143: UndefinedMetricWarning: Precision and F-score are ill-defined and being set to 0.0 in labels with no predicted samples.\n",
            "  'precision', 'predicted', average, warn_for)\n",
            "/usr/local/lib/python3.6/dist-packages/sklearn/metrics/classification.py:1143: UndefinedMetricWarning: Precision and F-score are ill-defined and being set to 0.0 in labels with no predicted samples.\n",
            "  'precision', 'predicted', average, warn_for)\n",
            "/usr/local/lib/python3.6/dist-packages/sklearn/metrics/classification.py:1143: UndefinedMetricWarning: Precision and F-score are ill-defined and being set to 0.0 in labels with no predicted samples.\n",
            "  'precision', 'predicted', average, warn_for)\n",
            "/usr/local/lib/python3.6/dist-packages/sklearn/metrics/classification.py:1143: UndefinedMetricWarning: Precision and F-score are ill-defined and being set to 0.0 in labels with no predicted samples.\n",
            "  'precision', 'predicted', average, warn_for)\n"
          ],
          "name": "stderr"
        }
      ]
    }
  ]
}