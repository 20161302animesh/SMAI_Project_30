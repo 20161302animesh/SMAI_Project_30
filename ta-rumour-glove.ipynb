{
 "cells": [
  {
   "cell_type": "code",
   "execution_count": 1,
   "metadata": {
    "_cell_guid": "b1076dfc-b9ad-4769-8c92-a6c4dae69d19",
    "_uuid": "8f2839f25d086af736a60e9eeb907d3b93b6e0e5"
   },
   "outputs": [
    {
     "name": "stderr",
     "output_type": "stream",
     "text": [
      "Using TensorFlow backend.\n"
     ]
    },
    {
     "name": "stdout",
     "output_type": "stream",
     "text": [
      "['quora-insincere-questions-classification', 'phemerumour']\n"
     ]
    }
   ],
   "source": [
    "# This Python 3 environment comes with many helpful analytics libraries installed\n",
    "# It is defined by the kaggle/python docker image: https://github.com/kaggle/docker-python\n",
    "# For example, here's several helpful packages to load in \n",
    "\n",
    "import numpy as np\n",
    "import pandas as pd\n",
    "import matplotlib.pyplot as plt\n",
    "import seaborn as sns\n",
    "\n",
    "import os\n",
    "import time\n",
    "import datetime\n",
    "import gc\n",
    "import random\n",
    "import re\n",
    "import operator\n",
    "\n",
    "from tqdm import tqdm\n",
    "\n",
    "from sklearn.model_selection import StratifiedKFold,KFold\n",
    "from sklearn.metrics import f1_score,precision_score,recall_score\n",
    "\n",
    "import torch\n",
    "import torch.nn as nn\n",
    "from torch.autograd import Variable\n",
    "from torch.utils.data import DataLoader,TensorDataset,Dataset\n",
    "from torch.nn.utils.rnn import pack_padded_sequence, pad_packed_sequence\n",
    "from torch.optim.optimizer import Optimizer\n",
    "\n",
    "from keras.preprocessing.text import Tokenizer,text_to_word_sequence\n",
    "from keras.preprocessing.sequence import pad_sequences\n",
    "print(os.listdir(\"../input\"))\n",
    "\n",
    "\n",
    "# Any results you write to the current directory are saved as output."
   ]
  },
  {
   "cell_type": "code",
   "execution_count": 2,
   "metadata": {
    "_cell_guid": "79c7e3d0-c299-4dcb-8224-4455121ee9b0",
    "_uuid": "d629ff2d2480ee46fbb7e2d37f6b5fab8052498a"
   },
   "outputs": [],
   "source": [
    "##reading the csv file of ta-rumour\n",
    "phemestance=pd.read_csv('../input/phemerumour/pheme-rumour.csv')"
   ]
  },
  {
   "cell_type": "code",
   "execution_count": 3,
   "metadata": {
    "_uuid": "10ebc44ba47dd34785d8a391383992357016796b"
   },
   "outputs": [
    {
     "data": {
      "text/html": [
       "<div>\n",
       "<style scoped>\n",
       "    .dataframe tbody tr th:only-of-type {\n",
       "        vertical-align: middle;\n",
       "    }\n",
       "\n",
       "    .dataframe tbody tr th {\n",
       "        vertical-align: top;\n",
       "    }\n",
       "\n",
       "    .dataframe thead th {\n",
       "        text-align: right;\n",
       "    }\n",
       "</style>\n",
       "<table border=\"1\" class=\"dataframe\">\n",
       "  <thead>\n",
       "    <tr style=\"text-align: right;\">\n",
       "      <th></th>\n",
       "      <th>Topic</th>\n",
       "      <th>SourceTweet</th>\n",
       "      <th>ReplyTweet</th>\n",
       "      <th>Label</th>\n",
       "    </tr>\n",
       "  </thead>\n",
       "  <tbody>\n",
       "    <tr>\n",
       "      <th>0</th>\n",
       "      <td>sydneysiege</td>\n",
       "      <td>\"My fellow Australians. Let's stand together a...</td>\n",
       "      <td>\"@roamingaussie\\nWhat an imbecile joker? You i...</td>\n",
       "      <td>non-rumours</td>\n",
       "    </tr>\n",
       "    <tr>\n",
       "      <th>1</th>\n",
       "      <td>sydneysiege</td>\n",
       "      <td>\"My fellow Australians. Let's stand together a...</td>\n",
       "      <td>\"@alfroz agreed, but what about the hatred of ...</td>\n",
       "      <td>non-rumours</td>\n",
       "    </tr>\n",
       "    <tr>\n",
       "      <th>2</th>\n",
       "      <td>sydneysiege</td>\n",
       "      <td>\"My fellow Australians. Let's stand together a...</td>\n",
       "      <td>\"@alfroz the only good Muslim is a dead muslim\"</td>\n",
       "      <td>non-rumours</td>\n",
       "    </tr>\n",
       "    <tr>\n",
       "      <th>3</th>\n",
       "      <td>sydneysiege</td>\n",
       "      <td>\"My fellow Australians. Let's stand together a...</td>\n",
       "      <td>\"@alfroz Never heard of that beast, innocent M...</td>\n",
       "      <td>non-rumours</td>\n",
       "    </tr>\n",
       "    <tr>\n",
       "      <th>4</th>\n",
       "      <td>sydneysiege</td>\n",
       "      <td>\"My fellow Australians. Let's stand together a...</td>\n",
       "      <td>\"@alfroz who is the Brother ,afroz?\"</td>\n",
       "      <td>non-rumours</td>\n",
       "    </tr>\n",
       "  </tbody>\n",
       "</table>\n",
       "</div>"
      ],
      "text/plain": [
       "         Topic     ...             Label\n",
       "0  sydneysiege     ...       non-rumours\n",
       "1  sydneysiege     ...       non-rumours\n",
       "2  sydneysiege     ...       non-rumours\n",
       "3  sydneysiege     ...       non-rumours\n",
       "4  sydneysiege     ...       non-rumours\n",
       "\n",
       "[5 rows x 4 columns]"
      ]
     },
     "execution_count": 3,
     "metadata": {},
     "output_type": "execute_result"
    }
   ],
   "source": [
    "phemestance.head()"
   ]
  },
  {
   "cell_type": "code",
   "execution_count": 4,
   "metadata": {
    "_uuid": "ea6ffd925d49929506488b9125070ab82a75d254"
   },
   "outputs": [],
   "source": [
    "##glove embeddings text file\n",
    "glove='../input/quora-insincere-questions-classification/embeddings/glove.840B.300d/glove.840B.300d.txt';"
   ]
  },
  {
   "cell_type": "code",
   "execution_count": 5,
   "metadata": {
    "_uuid": "7d242a992b7425dee8700bdcbafac314dadcb731"
   },
   "outputs": [],
   "source": [
    "## returns a dict of words and their embeddings in an array\n",
    "def glove_dict(file):\n",
    "    def get_coefs(word,*arr): \n",
    "        return word, np.asarray(arr, dtype='float32')\n",
    "    embeddings_index = dict(get_coefs(*o.split(\" \")) for o in open(file, encoding='latin'))\n",
    "    return embeddings_index"
   ]
  },
  {
   "cell_type": "code",
   "execution_count": 6,
   "metadata": {
    "_uuid": "441dba73f47b04caebd1f379194508388535dad1"
   },
   "outputs": [
    {
     "name": "stdout",
     "output_type": "stream",
     "text": [
      "CPU times: user 2min 30s, sys: 6.42 s, total: 2min 37s\n",
      "Wall time: 2min 37s\n"
     ]
    }
   ],
   "source": [
    "%%time\n",
    "glove_embeddings_dict=glove_dict(glove)"
   ]
  },
  {
   "cell_type": "code",
   "execution_count": 7,
   "metadata": {
    "_uuid": "41cdc8da879336397bad26006266200bfbf6885d"
   },
   "outputs": [
    {
     "name": "stdout",
     "output_type": "stream",
     "text": [
      "Number of embeddings loaded 2196016\n"
     ]
    }
   ],
   "source": [
    "print(\"Number of embeddings loaded\",len(glove_embeddings_dict))"
   ]
  },
  {
   "cell_type": "code",
   "execution_count": 8,
   "metadata": {},
   "outputs": [
    {
     "name": "stdout",
     "output_type": "stream",
     "text": [
      "(97410, 4)\n"
     ]
    },
    {
     "data": {
      "text/html": [
       "<div>\n",
       "<style scoped>\n",
       "    .dataframe tbody tr th:only-of-type {\n",
       "        vertical-align: middle;\n",
       "    }\n",
       "\n",
       "    .dataframe tbody tr th {\n",
       "        vertical-align: top;\n",
       "    }\n",
       "\n",
       "    .dataframe thead th {\n",
       "        text-align: right;\n",
       "    }\n",
       "</style>\n",
       "<table border=\"1\" class=\"dataframe\">\n",
       "  <thead>\n",
       "    <tr style=\"text-align: right;\">\n",
       "      <th></th>\n",
       "      <th>Topic</th>\n",
       "      <th>SourceTweet</th>\n",
       "      <th>ReplyTweet</th>\n",
       "      <th>Label</th>\n",
       "    </tr>\n",
       "  </thead>\n",
       "  <tbody>\n",
       "    <tr>\n",
       "      <th>0</th>\n",
       "      <td>sydneysiege</td>\n",
       "      <td>My fellow Australians. Let's stand together ag...</td>\n",
       "      <td>@roamingaussie\\nWhat an imbecile joker? You id...</td>\n",
       "      <td>non-rumours</td>\n",
       "    </tr>\n",
       "    <tr>\n",
       "      <th>1</th>\n",
       "      <td>sydneysiege</td>\n",
       "      <td>My fellow Australians. Let's stand together ag...</td>\n",
       "      <td>@alfroz agreed, but what about the hatred of i...</td>\n",
       "      <td>non-rumours</td>\n",
       "    </tr>\n",
       "    <tr>\n",
       "      <th>2</th>\n",
       "      <td>sydneysiege</td>\n",
       "      <td>My fellow Australians. Let's stand together ag...</td>\n",
       "      <td>@alfroz the only good Muslim is a dead muslim</td>\n",
       "      <td>non-rumours</td>\n",
       "    </tr>\n",
       "    <tr>\n",
       "      <th>3</th>\n",
       "      <td>sydneysiege</td>\n",
       "      <td>My fellow Australians. Let's stand together ag...</td>\n",
       "      <td>@alfroz Never heard of that beast, innocent Mu...</td>\n",
       "      <td>non-rumours</td>\n",
       "    </tr>\n",
       "    <tr>\n",
       "      <th>4</th>\n",
       "      <td>sydneysiege</td>\n",
       "      <td>My fellow Australians. Let's stand together ag...</td>\n",
       "      <td>@alfroz who is the Brother ,afroz?</td>\n",
       "      <td>non-rumours</td>\n",
       "    </tr>\n",
       "  </tbody>\n",
       "</table>\n",
       "</div>"
      ],
      "text/plain": [
       "         Topic     ...             Label\n",
       "0  sydneysiege     ...       non-rumours\n",
       "1  sydneysiege     ...       non-rumours\n",
       "2  sydneysiege     ...       non-rumours\n",
       "3  sydneysiege     ...       non-rumours\n",
       "4  sydneysiege     ...       non-rumours\n",
       "\n",
       "[5 rows x 4 columns]"
      ]
     },
     "execution_count": 8,
     "metadata": {},
     "output_type": "execute_result"
    }
   ],
   "source": [
    "##removing quoatations \n",
    "phemestance['SourceTweet']=phemestance['SourceTweet'].apply(lambda x:x[1:len(x) - 1])\n",
    "phemestance['ReplyTweet']=phemestance['ReplyTweet'].apply(lambda x:x[1:len(x) - 1])\n",
    "print(phemestance.shape)\n",
    "phemestance.head()"
   ]
  },
  {
   "cell_type": "code",
   "execution_count": 9,
   "metadata": {},
   "outputs": [
    {
     "name": "stdout",
     "output_type": "stream",
     "text": [
      "(97410, 4)\n"
     ]
    },
    {
     "data": {
      "text/html": [
       "<div>\n",
       "<style scoped>\n",
       "    .dataframe tbody tr th:only-of-type {\n",
       "        vertical-align: middle;\n",
       "    }\n",
       "\n",
       "    .dataframe tbody tr th {\n",
       "        vertical-align: top;\n",
       "    }\n",
       "\n",
       "    .dataframe thead th {\n",
       "        text-align: right;\n",
       "    }\n",
       "</style>\n",
       "<table border=\"1\" class=\"dataframe\">\n",
       "  <thead>\n",
       "    <tr style=\"text-align: right;\">\n",
       "      <th></th>\n",
       "      <th>Topic</th>\n",
       "      <th>SourceTweet</th>\n",
       "      <th>ReplyTweet</th>\n",
       "      <th>Label</th>\n",
       "    </tr>\n",
       "  </thead>\n",
       "  <tbody>\n",
       "    <tr>\n",
       "      <th>0</th>\n",
       "      <td>sydneysiege</td>\n",
       "      <td>my fellow australians. let's stand together ag...</td>\n",
       "      <td>@roamingaussie\\nwhat an imbecile joker? you id...</td>\n",
       "      <td>non-rumours</td>\n",
       "    </tr>\n",
       "    <tr>\n",
       "      <th>1</th>\n",
       "      <td>sydneysiege</td>\n",
       "      <td>my fellow australians. let's stand together ag...</td>\n",
       "      <td>@alfroz agreed, but what about the hatred of i...</td>\n",
       "      <td>non-rumours</td>\n",
       "    </tr>\n",
       "    <tr>\n",
       "      <th>2</th>\n",
       "      <td>sydneysiege</td>\n",
       "      <td>my fellow australians. let's stand together ag...</td>\n",
       "      <td>@alfroz the only good muslim is a dead muslim</td>\n",
       "      <td>non-rumours</td>\n",
       "    </tr>\n",
       "    <tr>\n",
       "      <th>3</th>\n",
       "      <td>sydneysiege</td>\n",
       "      <td>my fellow australians. let's stand together ag...</td>\n",
       "      <td>@alfroz never heard of that beast, innocent mu...</td>\n",
       "      <td>non-rumours</td>\n",
       "    </tr>\n",
       "    <tr>\n",
       "      <th>4</th>\n",
       "      <td>sydneysiege</td>\n",
       "      <td>my fellow australians. let's stand together ag...</td>\n",
       "      <td>@alfroz who is the brother ,afroz?</td>\n",
       "      <td>non-rumours</td>\n",
       "    </tr>\n",
       "  </tbody>\n",
       "</table>\n",
       "</div>"
      ],
      "text/plain": [
       "         Topic     ...             Label\n",
       "0  sydneysiege     ...       non-rumours\n",
       "1  sydneysiege     ...       non-rumours\n",
       "2  sydneysiege     ...       non-rumours\n",
       "3  sydneysiege     ...       non-rumours\n",
       "4  sydneysiege     ...       non-rumours\n",
       "\n",
       "[5 rows x 4 columns]"
      ]
     },
     "execution_count": 9,
     "metadata": {},
     "output_type": "execute_result"
    }
   ],
   "source": [
    "##converting to lower strings\n",
    "phemestance['SourceTweet']=phemestance['SourceTweet'].apply(lambda x:x.lower())\n",
    "phemestance['ReplyTweet']=phemestance['ReplyTweet'].apply(lambda x:x.lower())\n",
    "print(phemestance.shape)\n",
    "phemestance.head()"
   ]
  },
  {
   "cell_type": "code",
   "execution_count": 10,
   "metadata": {
    "_uuid": "252b07330d1bb6218daa0ba7b8ed728856397e66"
   },
   "outputs": [
    {
     "name": "stdout",
     "output_type": "stream",
     "text": [
      "(97410, 6)\n"
     ]
    },
    {
     "data": {
      "text/html": [
       "<div>\n",
       "<style scoped>\n",
       "    .dataframe tbody tr th:only-of-type {\n",
       "        vertical-align: middle;\n",
       "    }\n",
       "\n",
       "    .dataframe tbody tr th {\n",
       "        vertical-align: top;\n",
       "    }\n",
       "\n",
       "    .dataframe thead th {\n",
       "        text-align: right;\n",
       "    }\n",
       "</style>\n",
       "<table border=\"1\" class=\"dataframe\">\n",
       "  <thead>\n",
       "    <tr style=\"text-align: right;\">\n",
       "      <th></th>\n",
       "      <th>Topic</th>\n",
       "      <th>SourceTweet</th>\n",
       "      <th>ReplyTweet</th>\n",
       "      <th>Label</th>\n",
       "      <th>Num_words_src</th>\n",
       "      <th>Num_words_reply</th>\n",
       "    </tr>\n",
       "  </thead>\n",
       "  <tbody>\n",
       "    <tr>\n",
       "      <th>0</th>\n",
       "      <td>sydneysiege</td>\n",
       "      <td>my fellow australians. let's stand together ag...</td>\n",
       "      <td>@roamingaussie\\nwhat an imbecile joker? you id...</td>\n",
       "      <td>non-rumours</td>\n",
       "      <td>18</td>\n",
       "      <td>23</td>\n",
       "    </tr>\n",
       "    <tr>\n",
       "      <th>1</th>\n",
       "      <td>sydneysiege</td>\n",
       "      <td>my fellow australians. let's stand together ag...</td>\n",
       "      <td>@alfroz agreed, but what about the hatred of i...</td>\n",
       "      <td>non-rumours</td>\n",
       "      <td>18</td>\n",
       "      <td>11</td>\n",
       "    </tr>\n",
       "    <tr>\n",
       "      <th>2</th>\n",
       "      <td>sydneysiege</td>\n",
       "      <td>my fellow australians. let's stand together ag...</td>\n",
       "      <td>@alfroz the only good muslim is a dead muslim</td>\n",
       "      <td>non-rumours</td>\n",
       "      <td>18</td>\n",
       "      <td>9</td>\n",
       "    </tr>\n",
       "    <tr>\n",
       "      <th>3</th>\n",
       "      <td>sydneysiege</td>\n",
       "      <td>my fellow australians. let's stand together ag...</td>\n",
       "      <td>@alfroz never heard of that beast, innocent mu...</td>\n",
       "      <td>non-rumours</td>\n",
       "      <td>18</td>\n",
       "      <td>8</td>\n",
       "    </tr>\n",
       "    <tr>\n",
       "      <th>4</th>\n",
       "      <td>sydneysiege</td>\n",
       "      <td>my fellow australians. let's stand together ag...</td>\n",
       "      <td>@alfroz who is the brother ,afroz?</td>\n",
       "      <td>non-rumours</td>\n",
       "      <td>18</td>\n",
       "      <td>6</td>\n",
       "    </tr>\n",
       "  </tbody>\n",
       "</table>\n",
       "</div>"
      ],
      "text/plain": [
       "         Topic       ...       Num_words_reply\n",
       "0  sydneysiege       ...                    23\n",
       "1  sydneysiege       ...                    11\n",
       "2  sydneysiege       ...                     9\n",
       "3  sydneysiege       ...                     8\n",
       "4  sydneysiege       ...                     6\n",
       "\n",
       "[5 rows x 6 columns]"
      ]
     },
     "execution_count": 10,
     "metadata": {},
     "output_type": "execute_result"
    }
   ],
   "source": [
    "##getting the num of words in each sentence\n",
    "phemestance['Num_words_src']=phemestance['SourceTweet'].apply(lambda x:len(x.split()))\n",
    "phemestance['Num_words_reply']=phemestance['ReplyTweet'].apply(lambda x:len(x.split()))\n",
    "print(phemestance.shape)\n",
    "phemestance.head()"
   ]
  },
  {
   "cell_type": "code",
   "execution_count": 11,
   "metadata": {
    "_uuid": "b1c9915ee6a5b03f3592d609edaeab5534c90aa0"
   },
   "outputs": [
    {
     "name": "stdout",
     "output_type": "stream",
     "text": [
      "The average word length in src_tweet is 16.585093932861103 and in reply_tweet is 14.001262704034493\n"
     ]
    }
   ],
   "source": [
    "print(\"The average word length in src_tweet is\",phemestance['Num_words_src'].mean(),\n",
    "                      \"and in reply_tweet is\",phemestance['Num_words_reply'].mean())"
   ]
  },
  {
   "cell_type": "code",
   "execution_count": 12,
   "metadata": {
    "_uuid": "7cb44304ebcf288e066e24a353383fdb600608a9"
   },
   "outputs": [
    {
     "name": "stderr",
     "output_type": "stream",
     "text": [
      "/opt/conda/lib/python3.6/site-packages/scipy/stats/stats.py:1713: FutureWarning: Using a non-tuple sequence for multidimensional indexing is deprecated; use `arr[tuple(seq)]` instead of `arr[seq]`. In the future this will be interpreted as an array index, `arr[np.array(seq)]`, which will result either in an error or a different result.\n",
      "  return np.add.reduce(sorted[indexer] * weights, axis=axis) / sumval\n"
     ]
    },
    {
     "data": {
      "image/png": "[encoded data removed]",
      "text/plain": [
       "<Figure size 864x360 with 2 Axes>"
      ]
     },
     "metadata": {},
     "output_type": "display_data"
    }
   ],
   "source": [
    "plt.figure(figsize=(12,5))\n",
    "plt.subplot(121)\n",
    "sns.distplot(phemestance['Num_words_src'],kde=False)\n",
    "plt.yscale(\"log\")\n",
    "plt.title(\"Src Tweet Distribution\")\n",
    "plt.subplot(122)\n",
    "sns.distplot(phemestance['Num_words_reply'],kde=False)\n",
    "plt.yscale(\"log\")\n",
    "plt.title(\"Reply Tweet Distribution\")\n",
    "plt.show()"
   ]
  },
  {
   "cell_type": "code",
   "execution_count": 13,
   "metadata": {},
   "outputs": [],
   "source": [
    "## handling punctuations\n",
    "phemestance['SourceTweet']=phemestance['SourceTweet'].apply(lambda x:x.replace(\"’\",\"'\"))\n",
    "phemestance['ReplyTweet']=phemestance['ReplyTweet'].apply(lambda x:x.replace(\"’\",\"'\"))"
   ]
  },
  {
   "cell_type": "code",
   "execution_count": 14,
   "metadata": {},
   "outputs": [],
   "source": [
    "import string\n",
    "PUNC = string.punctuation.replace('@',\"\")\n",
    "PUNC = PUNC+\"”“‘‘\"\n",
    "url = re.compile('http[s]?://(?:[a-zA-Z]|[0-9]|[$-_@.&+] |[!*\\(\\), ]|(?:%[0-9a-fA-F][0-9a-fA-F]))+')"
   ]
  },
  {
   "cell_type": "code",
   "execution_count": 15,
   "metadata": {
    "_uuid": "ab598dd8ec03d08efc0a2a4cd1220392308cca31"
   },
   "outputs": [],
   "source": [
    "contraction_mapping={\"haven't\":\"have not\",\"hadn't\":\"had not\",\"wasn't\":\"was not\",\"he's\":\"he is\",\n",
    "                     \"couldn't\":\"could not\",\"she's\":\"she is\",\"i'm\":\"i am\",\"we've\":\"we have\",\n",
    "                     \"wouldn't\":\"would not\",\"that's\":\"that is\",\"we're\":\"we are\",\"isn't\":\"is not\",\n",
    "                     \"hasn't\":\"has not\",\"they're\":\"they are\",\"she's\":\"she is\",\"he's\":\"he is\",\"weren't\":\"were not\",\n",
    "                    \"there's\":\"there is\",\"i've\":\"i have\",\"you've\":\"you have\",\"we've\":\"we have\",\"we'd\":\"we would\",\n",
    "                    \"we're\":\"we are\",\"who's\":\"who is\",\"they'll\":\"they will\",\"what's\":\"what is\",\"she'd\":\"she would\",\n",
    "                    \"aren't\":\"are not\",\"shouldn't\":\"should not\",\"There's\":\"There is\",\n",
    "                     \"we'll\":\"we will\",\"I`m\":\"I am\",\"you're\":\"you are\",\"i'd\":\"i would\",\"he'll\":\"he will\",\n",
    "                    \"they'd\":\"they would\",\"didn't\":\"did not\",\"you'll\":\"you will\",\n",
    "                    \"would've\":\"would have\",\"you\\'re\":\"you are\",\"i'll\":\"i will\",\n",
    "                    \"film/theater\":\"film or theater\",\"that\\'s\":\"that is\",\"we'd\":\"we would\",\n",
    "                    \"they've\":\"they have\",\"she'll\":\"she will\",\"haven't\":\"have not\",\"it'll\":\"it will\",\"you'd\":\"you would\",\n",
    "                    \"i've\":\"i have\",\"i`ve\":\"i have\",\"she'll\":\"she will\",\"it'll\":\"it will\",\"hadn't\":\"had not\",\"i\\'ve\":\"i have\",\n",
    "                     \"you\\'re\":\"you are\",\"b'day\":\"birthday\",\"don't\":\"do not\",\"it'd\":\"it would\",\"you've\":\"you have\",\n",
    "                    \"don\\'t\":\"do not\",\"what\\'s\":\"what is\",\"won't\":\"will not\",\n",
    "                    \"he'd\":\"he would\",\"don't\":\"do not\",\"here's\":\"here is\",\"i'll\":\"i will\",\"let's\": \"let us\",\n",
    "                    \"i'd\":\"i had\",\"when's\": \"when is\",\"y'all\":\"you all\",\"it's\":\"it is\",\"can't\":\"cannot\",\"what's\":\"what is\",\n",
    "                    \"where's\":\"where is\",\"ain't\":\"are not\",\"let´s\":\"let us\",\"gov't\":\"government\",\"could've\":\"could have\"}\n",
    "def replace_contraction_mapping(x):\n",
    "    for contract in contraction_mapping.keys():\n",
    "        x=x.replace(contract,contraction_mapping[contract])\n",
    "    return x\n",
    "def stripof(x):\n",
    "    out = ''\n",
    "    for word in x.split():\n",
    "        if not url.search(word) and word[0]!='@':\n",
    "            word= word.strip(PUNC)\n",
    "            out+=re.sub(\"\\'s$\", \"\", word)+' '\n",
    "    return out\n",
    "phemestance['SourceTweet']=phemestance['SourceTweet'].apply(lambda x:stripof(x))\n",
    "phemestance['ReplyTweet']=phemestance['ReplyTweet'].apply(lambda x:stripof(x))\n",
    "phemestance['SourceTweet']=phemestance['SourceTweet'].apply(lambda x:replace_contraction_mapping(x))\n",
    "phemestance['ReplyTweet']=phemestance['ReplyTweet'].apply(lambda x:replace_contraction_mapping(x))\n",
    "src_tweet_cleaned = phemestance['SourceTweet']\n",
    "reply_tweet_cleaned = phemestance['ReplyTweet']\n"
   ]
  },
  {
   "cell_type": "code",
   "execution_count": 16,
   "metadata": {},
   "outputs": [],
   "source": [
    "# src_tweet_cleaned"
   ]
  },
  {
   "cell_type": "code",
   "execution_count": 17,
   "metadata": {
    "_uuid": "15db4252483cd48f6317446f57477e3735485926"
   },
   "outputs": [],
   "source": [
    "\n",
    "tweets=pd.concat([src_tweet_cleaned,reply_tweet_cleaned])\n"
   ]
  },
  {
   "cell_type": "code",
   "execution_count": 18,
   "metadata": {},
   "outputs": [],
   "source": [
    "# tweets"
   ]
  },
  {
   "cell_type": "code",
   "execution_count": 19,
   "metadata": {
    "_uuid": "3f9febb3722943c2d59b2024a3ec959be8bf396c"
   },
   "outputs": [],
   "source": [
    "# print(src_tweet_cleaned)\n",
    "# print(reply_tweet_cleaned)\n",
    "# print(tweets)"
   ]
  },
  {
   "cell_type": "code",
   "execution_count": 20,
   "metadata": {
    "_uuid": "add601d326fe6b452eb6c7d05fee56e945a8298e"
   },
   "outputs": [],
   "source": [
    "# phemestance['SourceTweet'].head()\n",
    "# phemestance['ReplyTweet'].head()\n",
    "# phemestance.head()"
   ]
  },
  {
   "cell_type": "code",
   "execution_count": 21,
   "metadata": {
    "_uuid": "24f139defea7c55abf342d506a17db15d9a3c852"
   },
   "outputs": [],
   "source": [
    "def sen(x):\n",
    "    return x.split()\n",
    "src_sentences=src_tweet_cleaned.apply(sen)\n",
    "reply_sentences=reply_tweet_cleaned.apply(sen)\n",
    "tweet_sentences=tweets.apply(sen)"
   ]
  },
  {
   "cell_type": "code",
   "execution_count": 22,
   "metadata": {
    "_uuid": "fffadf336c64c06acd937fe41f738866f876bc36"
   },
   "outputs": [],
   "source": [
    "# src_sentences\n",
    "# reply_sentences\n",
    "# tweet_sentences"
   ]
  },
  {
   "cell_type": "code",
   "execution_count": 23,
   "metadata": {
    "_uuid": "e2dec4d873ebb0cd938b04f89c4873d67915731b"
   },
   "outputs": [
    {
     "name": "stderr",
     "output_type": "stream",
     "text": [
      "100%|██████████| 97410/97410 [00:00<00:00, 320890.30it/s]\n",
      " 31%|███       | 30326/97410 [00:00<00:00, 303255.95it/s]"
     ]
    },
    {
     "name": "stdout",
     "output_type": "stream",
     "text": [
      "Number of words found in vocab are 7474\n"
     ]
    },
    {
     "name": "stderr",
     "output_type": "stream",
     "text": [
      "100%|██████████| 97410/97410 [00:00<00:00, 278842.22it/s]\n",
      " 16%|█▋        | 31883/194820 [00:00<00:00, 318822.70it/s]"
     ]
    },
    {
     "name": "stdout",
     "output_type": "stream",
     "text": [
      "Number of words found in vocab are 59348\n"
     ]
    },
    {
     "name": "stderr",
     "output_type": "stream",
     "text": [
      "100%|██████████| 194820/194820 [00:00<00:00, 310889.78it/s]"
     ]
    },
    {
     "name": "stdout",
     "output_type": "stream",
     "text": [
      "Number of words found in vocab are 59961\n"
     ]
    },
    {
     "name": "stderr",
     "output_type": "stream",
     "text": [
      "\n"
     ]
    }
   ],
   "source": [
    "def build_vocab(sentences,verbose=True):\n",
    "    vocab={}\n",
    "    for sentence in tqdm(sentences,disable=(not verbose)):\n",
    "        for word in sentence:\n",
    "#             word = word.lower()\n",
    "#             word = word.strip(PUNC)\n",
    "#             word = re.sub(\"\\'s$\", \"\", word)\n",
    "            try:\n",
    "                vocab[word]+=1\n",
    "            except KeyError:\n",
    "                vocab[word]=1\n",
    "                \n",
    "    print(\"Number of words found in vocab are\",len(vocab.keys()))\n",
    "    return dict(sorted(vocab.items(), key=operator.itemgetter(1))[::-1])\n",
    "src_vocab=build_vocab(src_sentences)\n",
    "reply_vocab=build_vocab(reply_sentences)\n",
    "tweet_vocab=build_vocab(tweet_sentences)"
   ]
  },
  {
   "cell_type": "code",
   "execution_count": 24,
   "metadata": {
    "_uuid": "12b204e4cca9ba12b13002e909c1d28ac7b77181"
   },
   "outputs": [
    {
     "name": "stderr",
     "output_type": "stream",
     "text": [
      "100%|██████████| 59961/59961 [00:00<00:00, 654814.65it/s]"
     ]
    },
    {
     "name": "stdout",
     "output_type": "stream",
     "text": [
      "Total embeddings found in vocab are 56.338286552926064 %\n",
      "Total embeddings found in text are 95.13796873876382 %\n"
     ]
    },
    {
     "name": "stderr",
     "output_type": "stream",
     "text": [
      "\n"
     ]
    }
   ],
   "source": [
    "def check_coverage(vocab,glove_embeddings_dict):\n",
    "    # words that dont have embeddings\n",
    "    oov={}\n",
    "    # stores words that have embeddings\n",
    "    a=[]\n",
    "    i=0\n",
    "    k=0\n",
    "    for word in tqdm(vocab.keys()):\n",
    "#         word = word.lower()\n",
    "#         word = word.strip(PUNC)\n",
    "#         word = re.sub(\"\\'s$\", \"\", word)\n",
    "        if glove_embeddings_dict.get(word) is not None:                    # implies that word has embedding\n",
    "            a.append(word)\n",
    "            k=k+vocab[word]\n",
    "        else:\n",
    "            #if word != '' and word[0] != '#' and word[0]!='@' and not url.search(word):\n",
    "            oov[word]=vocab[word]\n",
    "            i=i+vocab[word]\n",
    "    \n",
    "    print(\"Total embeddings found in vocab are\",len(a)/len(vocab)*100,\"%\")\n",
    "    print(\"Total embeddings found in text are\",k/(k+i)*100,\"%\")\n",
    "    sorted_x = sorted(oov.items(), key=operator.itemgetter(1))[::-1]\n",
    "    return dict(sorted_x)\n",
    "oov=check_coverage(tweet_vocab,glove_embeddings_dict)\n"
   ]
  },
  {
   "cell_type": "code",
   "execution_count": 25,
   "metadata": {},
   "outputs": [
    {
     "name": "stdout",
     "output_type": "stream",
     "text": [
      "['my fellow australians let stand together against the sydneysiege as well as the hatred against innocent muslim australians ', 'what an imbecile joker you idiot must be telling your buddies all over australia how courageous you were in a tweet right ', 'agreed but what about the hatred of innocent non-muslim australians ', 'the only good muslim is a dead muslim ', 'never heard of that beast innocent muslim ', 'who is the brother afroz ', 'i had argument with christian tweet that multiculturalism is the problem no idiot bigots are siege ', 'stop perpetuating hateful gibberish in the first place ', '👍 @alfroz my fellow australians.let stand together against the sydneysiege as well as the hatred against innocent muslim australians ', 'muslim first take out ur head from white mans ass all ur islamic wisdom use it in the middle east and then c what happens to you ', 'nonsense terrorists are not muslims they are just crazy obsessed demons ', 'completely agree let this be the tipping point where we start to talk and work together to end ignorance in aus ', 'no wonder there is so much killing grow up and smell life ', 'indeed lets pray united against fear ']\n",
      "(14, 121)\n",
      "  (0, 66)\t0.22376635010568968\n",
      "  (0, 31)\t0.22376635010568968\n",
      "  (0, 15)\t0.3981936705018528\n",
      "  (0, 56)\t0.1990968352509264\n",
      "  (0, 86)\t0.22376635010568968\n",
      "  (0, 102)\t0.1990968352509264\n",
      "  (0, 2)\t0.3981936705018528\n",
      "  (0, 95)\t0.24104485946469506\n",
      "  (0, 89)\t0.22376635010568968\n",
      "  (0, 11)\t0.44753270021137936\n",
      "  (0, 109)\t0.22376635010568968\n",
      "  (0, 40)\t0.1990968352509264\n",
      "  (0, 49)\t0.1799616729275487\n",
      "  (0, 63)\t0.1511082696939018\n",
      "  (1, 111)\t0.17189545689816618\n",
      "  (1, 7)\t0.22321388119076307\n",
      "  (1, 46)\t0.22321388119076307\n",
      "  (1, 53)\t0.22321388119076307\n",
      "  (1, 119)\t0.38638905476699253\n",
      "  (1, 44)\t0.19319452738349627\n",
      "  (1, 65)\t0.22321388119076307\n",
      "  (1, 16)\t0.19319452738349627\n",
      "  (1, 92)\t0.22321388119076307\n",
      "  (1, 120)\t0.22321388119076307\n",
      "  (1, 20)\t0.22321388119076307\n",
      "  :\t:\n",
      "  (11, 108)\t0.22806017765651504\n",
      "  (11, 87)\t0.22806017765651504\n",
      "  (11, 91)\t0.22806017765651504\n",
      "  (11, 118)\t0.22806017765651504\n",
      "  (11, 29)\t0.22806017765651504\n",
      "  (11, 45)\t0.22806017765651504\n",
      "  (11, 13)\t0.22806017765651504\n",
      "  (12, 50)\t0.21154908787126514\n",
      "  (12, 68)\t0.2630424939436888\n",
      "  (12, 8)\t0.23404291152786594\n",
      "  (12, 117)\t0.30391510974179026\n",
      "  (12, 97)\t0.30391510974179026\n",
      "  (12, 85)\t0.30391510974179026\n",
      "  (12, 61)\t0.30391510974179026\n",
      "  (12, 55)\t0.30391510974179026\n",
      "  (12, 36)\t0.30391510974179026\n",
      "  (12, 105)\t0.30391510974179026\n",
      "  (12, 84)\t0.30391510974179026\n",
      "  (12, 58)\t0.30391510974179026\n",
      "  (13, 2)\t0.32562602610696434\n",
      "  (13, 48)\t0.422839849380776\n",
      "  (13, 57)\t0.422839849380776\n",
      "  (13, 80)\t0.422839849380776\n",
      "  (13, 104)\t0.422839849380776\n",
      "  (13, 30)\t0.422839849380776\n"
     ]
    }
   ],
   "source": [
    "from sklearn.feature_extraction.text import TfidfVectorizer\n",
    "tfidf = []\n",
    "features = []\n",
    "temp=0\n",
    "for src in list(phemestance['SourceTweet'].unique()):\n",
    "    corpus = [src]+list(phemestance.loc[phemestance['SourceTweet']==src,'ReplyTweet'].values)\n",
    "    vectorizer = TfidfVectorizer()\n",
    "    X = vectorizer.fit_transform(corpus)\n",
    "    tfidf.append(X)\n",
    "    if temp==0:\n",
    "        temp=1\n",
    "        print(corpus)\n",
    "        print(X.shape)\n",
    "        print(X)\n",
    "    features.append(vectorizer.get_feature_names())"
   ]
  },
  {
   "cell_type": "code",
   "execution_count": 26,
   "metadata": {},
   "outputs": [
    {
     "name": "stderr",
     "output_type": "stream",
     "text": [
      "100%|██████████| 5331/5331 [00:51<00:00, 104.21it/s]\n"
     ]
    }
   ],
   "source": [
    "list_of_claims = []\n",
    "m = 0\n",
    "for src in tqdm(list(phemestance['SourceTweet'].unique())):\n",
    "    corpus = [src]+list(phemestance.loc[phemestance['SourceTweet']==src,'ReplyTweet'].values)\n",
    "    claim = []\n",
    "    n = 0\n",
    "    temp_tfidf = tfidf[m].toarray()\n",
    "    temp_features = features[m]\n",
    "    for sentence in corpus:\n",
    "        embedding = np.zeros((300,1))\n",
    "        #embedding = 0\n",
    "        #print(temp_features.index('an'))\n",
    "        #print(sentence)\n",
    "        num_words=0\n",
    "        flag = 0\n",
    "        for word in sentence.split():\n",
    "#             print(word)\n",
    "            if word not in oov and word in temp_features:\n",
    "                #print(m,\" \",word)\n",
    "                emb = np.reshape(glove_embeddings_dict.get(word),(300,1))\n",
    "                embedding += (temp_tfidf[n][temp_features.index(word)] * emb)\n",
    "                num_words = num_words+1\n",
    "                flag = 1\n",
    "            elif word in temp_features:\n",
    "                embedding += (temp_tfidf[n][temp_features.index(word)] * np.random.rand(300,1))\n",
    "                num_words = num_words+1\n",
    "                flag = 1\n",
    "        n = n+1\n",
    "#         print(\"N\",n)\n",
    "        if num_words==0:\n",
    "            num_words=1\n",
    "#         print(\"No of words in a sentence\",num_words)\n",
    "        embedding/=num_words\n",
    "        if flag == 1:\n",
    "#             print(embedding.shape)\n",
    "            claim.append(embedding)\n",
    "    m=m+1\n",
    "    list_of_claims.append(claim)\n",
    "#     break\n",
    "        \n",
    "        \n"
   ]
  },
  {
   "cell_type": "code",
   "execution_count": 27,
   "metadata": {},
   "outputs": [
    {
     "data": {
      "text/plain": [
       "(14, 300, 1)"
      ]
     },
     "execution_count": 27,
     "metadata": {},
     "output_type": "execute_result"
    }
   ],
   "source": [
    "np.array(list_of_claims[0]).shape"
   ]
  },
  {
   "cell_type": "code",
   "execution_count": 28,
   "metadata": {},
   "outputs": [],
   "source": [
    "labels = []\n",
    "for src in list(phemestance['SourceTweet'].unique()):\n",
    "    labels.append(phemestance.loc[phemestance['SourceTweet']==src,'Label'].unique())"
   ]
  },
  {
   "cell_type": "code",
   "execution_count": 29,
   "metadata": {},
   "outputs": [],
   "source": [
    "# Out = [['claims','label']]\n",
    "Out = []\n",
    "for i in range(len(labels)):\n",
    "    g = np.array(list_of_claims[i])[:,:,0]\n",
    "#     print(g.shape)\n",
    "    temp = [g,labels[i][0]]\n",
    "    Out.append(temp)"
   ]
  },
  {
   "cell_type": "code",
   "execution_count": 30,
   "metadata": {},
   "outputs": [],
   "source": [
    "# pd.DataFrame(Out,columns=['thread','label']).to_csv(\"rumour.csv\",index=False)"
   ]
  },
  {
   "cell_type": "code",
   "execution_count": 31,
   "metadata": {},
   "outputs": [
    {
     "name": "stdout",
     "output_type": "stream",
     "text": [
      "Done\n"
     ]
    }
   ],
   "source": [
    "np.save(file='rumour.npy',arr=np.array(Out))\n",
    "print(\"Done\")"
   ]
  },
  {
   "cell_type": "code",
   "execution_count": 32,
   "metadata": {},
   "outputs": [],
   "source": []
  },
  {
   "cell_type": "code",
   "execution_count": 32,
   "metadata": {},
   "outputs": [],
   "source": []
  },
  {
   "cell_type": "code",
   "execution_count": 32,
   "metadata": {},
   "outputs": [],
   "source": []
  },
  {
   "cell_type": "code",
   "execution_count": 32,
   "metadata": {},
   "outputs": [],
   "source": [
    "# import csv\n",
    "# with open('claims.csv', 'w') as csvFile:\n",
    "#     writer = csv.writer(csvFile)\n",
    "#     writer.writerows(Out)"
   ]
  }
 ],
 "metadata": {
  "kernelspec": {
   "display_name": "Python 3",
   "language": "python",
   "name": "python3"
  },
  "language_info": {
   "codemirror_mode": {
    "name": "ipython",
    "version": 3
   },
   "file_extension": ".py",
   "mimetype": "text/x-python",
   "name": "python",
   "nbconvert_exporter": "python",
   "pygments_lexer": "ipython3",
   "version": "3.6.6"
  }
 },
 "nbformat": 4,
 "nbformat_minor": 1
}
