{
 "cells": [
  {
   "cell_type": "code",
   "execution_count": 1,
   "metadata": {},
   "outputs": [],
   "source": [
    "import numpy as np\n",
    "import pandas as pd\n",
    "import seaborn as sns\n",
    "import matplotlib.pyplot as plt\n",
    "\n",
    "import os\n",
    "import json\n",
    "import gc\n",
    "import time\n",
    "import tqdm"
   ]
  },
  {
   "cell_type": "code",
   "execution_count": null,
   "metadata": {
    "collapsed": true
   },
   "outputs": [
    {
     "name": "stdout",
     "output_type": "stream",
     "text": [
      "Topic charliehebdo\n",
      "Label rumours\n",
      "1000\n",
      "2000\n",
      "3000\n",
      "4000\n",
      "5000\n",
      "6000\n",
      "Label non-rumours\n",
      "7000\n",
      "8000\n",
      "9000\n",
      "10000\n",
      "11000\n",
      "12000\n",
      "13000\n",
      "14000\n",
      "15000\n",
      "16000\n",
      "17000\n",
      "18000\n",
      "19000\n",
      "20000\n",
      "21000\n",
      "22000\n",
      "23000\n",
      "24000\n",
      "25000\n",
      "26000\n",
      "27000\n",
      "28000\n",
      "29000\n",
      "30000\n",
      "31000\n"
     ]
    }
   ],
   "source": [
    "harsha=pd.DataFrame(columns=['Topic','SourceTweet','ReplyTweet','Label'])\n",
    "\n",
    "row_number=0\n",
    "topic_path='./pheme-rnr-dataset/'\n",
    "for topic in os.listdir(topic_path):\n",
    "    if(topic=='README'):\n",
    "        continue\n",
    "    print(\"Topic\",topic)\n",
    "    label_path=topic_path+topic+'/'\n",
    "    for label in os.listdir(label_path):\n",
    "        print(\"Label\",label)\n",
    "        if(label=='non-rumours'):\n",
    "            thread_path=label_path+label+'/'\n",
    "            for thread in os.listdir(thread_path):\n",
    "#                 print(thread)\n",
    "                src_path=thread_path+thread+'/'+'source-tweet'+'/'\n",
    "                src_file=os.listdir(src_path)\n",
    "                src_dict=json.load(open(src_path+src_file[0]))\n",
    "#                 print(src_dict)\n",
    "                src_tweet=src_dict['text']\n",
    "                reply_path=thread_path+thread+'/'+'reactions'+'/'\n",
    "                for reply in os.listdir(reply_path):\n",
    "#                     print(reply)\n",
    "                    reply_dict=json.load(open(reply_path+reply))\n",
    "#                     print(reply_dict)\n",
    "                    reply_tweet=reply_dict['text']\n",
    "                    harsha.loc[row_number,'Topic']=topic\n",
    "                    harsha.loc[row_number,'SourceTweet']=src_tweet\n",
    "                    harsha.loc[row_number,'ReplyTweet']=reply_tweet\n",
    "                    harsha.loc[row_number,'Label']=label\n",
    "                    row_number=row_number+1\n",
    "                    if(row_number%1000==0):\n",
    "                        print(row_number)\n",
    "        elif (label=='rumours'):\n",
    "            thread_path=label_path+label+'/'\n",
    "            for thread in os.listdir(thread_path):\n",
    "#                 print(thread)\n",
    "                src_path=thread_path+thread+'/'+'source-tweet'+'/'\n",
    "                src_file=os.listdir(src_path)\n",
    "                src_dict=json.load(open(src_path+src_file[0]))\n",
    "#                 print(src_dict)\n",
    "                src_tweet=src_dict['text']\n",
    "                reply_path=thread_path+thread+'/'+'reactions'+'/'\n",
    "                for reply in os.listdir(reply_path):\n",
    "#                     print(reply)\n",
    "                    reply_dict=json.load(open(reply_path+reply))\n",
    "#                     print(reply_dict)\n",
    "                    reply_tweet=reply_dict['text']\n",
    "                    harsha.loc[row_number,'Topic']=topic\n",
    "                    harsha.loc[row_number,'SourceTweet']=src_tweet\n",
    "                    harsha.loc[row_number,'ReplyTweet']=reply_tweet\n",
    "                    harsha.loc[row_number,'Label']=label\n",
    "                    row_number=row_number+1\n",
    "                    if(row_number%1000==0):\n",
    "                        print(row_number)\n",
    "                    \n",
    "    \n",
    "        \n",
    "        \n",
    "        \n",
    "    "
   ]
  },
  {
   "cell_type": "code",
   "execution_count": null,
   "metadata": {},
   "outputs": [],
   "source": [
    "h1=os.listdir('./pheme-rnr-dataset/charliehebdo/non-rumours/552784600502915072/source-tweet/')"
   ]
  },
  {
   "cell_type": "code",
   "execution_count": null,
   "metadata": {},
   "outputs": [],
   "source": [
    "h1"
   ]
  },
  {
   "cell_type": "code",
   "execution_count": null,
   "metadata": {},
   "outputs": [],
   "source": [
    "h2=json.load(open('./pheme-rnr-dataset/charliehebdo/non-rumours/552784600502915072/source-tweet/'+h1[0]))"
   ]
  },
  {
   "cell_type": "code",
   "execution_count": null,
   "metadata": {},
   "outputs": [],
   "source": [
    "h2"
   ]
  },
  {
   "cell_type": "code",
   "execution_count": null,
   "metadata": {},
   "outputs": [],
   "source": []
  },
  {
   "cell_type": "code",
   "execution_count": null,
   "metadata": {},
   "outputs": [],
   "source": [
    "harsha['Topic'].unique()"
   ]
  },
  {
   "cell_type": "code",
   "execution_count": null,
   "metadata": {},
   "outputs": [],
   "source": [
    "harsha['Label'].unique()"
   ]
  },
  {
   "cell_type": "code",
   "execution_count": null,
   "metadata": {},
   "outputs": [],
   "source": [
    "harsha.to_csv(\"data2.csv\",index=False)"
   ]
  },
  {
   "cell_type": "code",
   "execution_count": null,
   "metadata": {},
   "outputs": [],
   "source": [
    "train=pd.read_csv('data2.csv')"
   ]
  },
  {
   "cell_type": "code",
   "execution_count": null,
   "metadata": {},
   "outputs": [],
   "source": [
    "train['Topic'].unique()"
   ]
  },
  {
   "cell_type": "code",
   "execution_count": null,
   "metadata": {},
   "outputs": [],
   "source": [
    "train['Label'].unique()"
   ]
  }
 ],
 "metadata": {
  "kernelspec": {
   "display_name": "Python 3",
   "language": "python",
   "name": "python3"
  },
  "language_info": {
   "codemirror_mode": {
    "name": "ipython",
    "version": 3
   },
   "file_extension": ".py",
   "mimetype": "text/x-python",
   "name": "python",
   "nbconvert_exporter": "python",
   "pygments_lexer": "ipython3",
   "version": "3.6.5"
  }
 },
 "nbformat": 4,
 "nbformat_minor": 2
}
